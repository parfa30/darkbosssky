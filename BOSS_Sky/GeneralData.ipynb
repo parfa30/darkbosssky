{
 "cells": [
  {
   "cell_type": "code",
   "execution_count": 1,
   "metadata": {},
   "outputs": [
    {
     "name": "stdout",
     "output_type": "stream",
     "text": [
      "Populating the interactive namespace from numpy and matplotlib\n"
     ]
    }
   ],
   "source": [
    "%pylab inline\n",
    "import os, glob\n",
    "import pandas as pd\n",
    "import numpy as np\n",
    "import matplotlib.pyplot as plt\n",
    "from datetime import datetime, timedelta\n",
    "from scipy.interpolate import interp1d\n",
    "\n",
    "from astropy.coordinates import SkyCoord, EarthLocation\n",
    "from astral import sun\n",
    "APACHE = EarthLocation.of_site('Apache Point')"
   ]
  },
  {
   "cell_type": "code",
   "execution_count": 2,
   "metadata": {},
   "outputs": [],
   "source": [
    "from IPython.display import display\n",
    "pd.options.display.max_columns = None"
   ]
  },
  {
   "cell_type": "code",
   "execution_count": 3,
   "metadata": {},
   "outputs": [],
   "source": [
    "import astral"
   ]
  },
  {
   "cell_type": "code",
   "execution_count": 16,
   "metadata": {},
   "outputs": [],
   "source": [
    "plt.rc('font', size=16, family='serif')"
   ]
  },
  {
   "cell_type": "code",
   "execution_count": 5,
   "metadata": {},
   "outputs": [],
   "source": [
    "image_list = pd.read_csv('boss_image_list.csv')"
   ]
  },
  {
   "cell_type": "code",
   "execution_count": 6,
   "metadata": {},
   "outputs": [],
   "source": [
    "good = image_list[image_list['PLATEQUALITY'] == 'good']"
   ]
  },
  {
   "cell_type": "code",
   "execution_count": 7,
   "metadata": {},
   "outputs": [
    {
     "data": {
      "text/html": [
       "<div>\n",
       "<style>\n",
       "    .dataframe thead tr:only-child th {\n",
       "        text-align: right;\n",
       "    }\n",
       "\n",
       "    .dataframe thead th {\n",
       "        text-align: left;\n",
       "    }\n",
       "\n",
       "    .dataframe tbody tr th {\n",
       "        vertical-align: top;\n",
       "    }\n",
       "</style>\n",
       "<table border=\"1\" class=\"dataframe\">\n",
       "  <thead>\n",
       "    <tr style=\"text-align: right;\">\n",
       "      <th></th>\n",
       "      <th>PLATE</th>\n",
       "      <th>MJD</th>\n",
       "      <th>IMG_NAME</th>\n",
       "      <th>IMG_NUM</th>\n",
       "      <th>PLATEQUALITY</th>\n",
       "    </tr>\n",
       "  </thead>\n",
       "  <tbody>\n",
       "    <tr>\n",
       "      <th>0</th>\n",
       "      <td>5290</td>\n",
       "      <td>55862</td>\n",
       "      <td>b1-00135458</td>\n",
       "      <td>135458</td>\n",
       "      <td>good</td>\n",
       "    </tr>\n",
       "    <tr>\n",
       "      <th>9</th>\n",
       "      <td>5290</td>\n",
       "      <td>55862</td>\n",
       "      <td>b2-00135458</td>\n",
       "      <td>135458</td>\n",
       "      <td>good</td>\n",
       "    </tr>\n",
       "    <tr>\n",
       "      <th>18</th>\n",
       "      <td>5290</td>\n",
       "      <td>55862</td>\n",
       "      <td>r1-00135458</td>\n",
       "      <td>135458</td>\n",
       "      <td>good</td>\n",
       "    </tr>\n",
       "    <tr>\n",
       "      <th>27</th>\n",
       "      <td>5290</td>\n",
       "      <td>55862</td>\n",
       "      <td>r2-00135458</td>\n",
       "      <td>135458</td>\n",
       "      <td>good</td>\n",
       "    </tr>\n",
       "  </tbody>\n",
       "</table>\n",
       "</div>"
      ],
      "text/plain": [
       "    PLATE    MJD     IMG_NAME  IMG_NUM PLATEQUALITY\n",
       "0    5290  55862  b1-00135458   135458         good\n",
       "9    5290  55862  b2-00135458   135458         good\n",
       "18   5290  55862  r1-00135458   135458         good\n",
       "27   5290  55862  r2-00135458   135458         good"
      ]
     },
     "execution_count": 7,
     "metadata": {},
     "output_type": "execute_result"
    }
   ],
   "source": [
    "good[good.IMG_NUM == 135458]"
   ]
  },
  {
   "cell_type": "code",
   "execution_count": 216,
   "metadata": {},
   "outputs": [
    {
     "data": {
      "text/plain": [
       "2438"
      ]
     },
     "execution_count": 216,
     "metadata": {},
     "output_type": "execute_result"
    }
   ],
   "source": [
    "len(np.unique(good.PLATE))"
   ]
  },
  {
   "cell_type": "code",
   "execution_count": 217,
   "metadata": {},
   "outputs": [
    {
     "data": {
      "text/plain": [
       "13062"
      ]
     },
     "execution_count": 217,
     "metadata": {},
     "output_type": "execute_result"
    }
   ],
   "source": [
    "len(np.unique(good.IMG_NUM))"
   ]
  },
  {
   "cell_type": "markdown",
   "metadata": {},
   "source": [
    "## Get all Rich Meta Data"
   ]
  },
  {
   "cell_type": "code",
   "execution_count": 8,
   "metadata": {},
   "outputs": [],
   "source": [
    "rich_meta_dir = '/global/cscratch1/sd/parkerf/dark_boss_sky/rich_meta/'"
   ]
  },
  {
   "cell_type": "code",
   "execution_count": 9,
   "metadata": {},
   "outputs": [],
   "source": [
    "Meta = []\n",
    "rich_files = os.listdir(rich_meta_dir)\n",
    "for f in rich_files:\n",
    "    try:\n",
    "        df = pd.read_csv(rich_meta_dir + f)\n",
    "        Meta.append(df)\n",
    "    except:\n",
    "        print(f)"
   ]
  },
  {
   "cell_type": "code",
   "execution_count": 10,
   "metadata": {},
   "outputs": [],
   "source": [
    "Meta = pd.concat(Meta)"
   ]
  },
  {
   "cell_type": "code",
   "execution_count": 10,
   "metadata": {},
   "outputs": [
    {
     "data": {
      "text/html": [
       "<div>\n",
       "<style>\n",
       "    .dataframe thead tr:only-child th {\n",
       "        text-align: right;\n",
       "    }\n",
       "\n",
       "    .dataframe thead th {\n",
       "        text-align: left;\n",
       "    }\n",
       "\n",
       "    .dataframe tbody tr th {\n",
       "        vertical-align: top;\n",
       "    }\n",
       "</style>\n",
       "<table border=\"1\" class=\"dataframe\">\n",
       "  <thead>\n",
       "    <tr style=\"text-align: right;\">\n",
       "      <th></th>\n",
       "      <th>PLATE</th>\n",
       "      <th>SPECNO</th>\n",
       "      <th>IMG</th>\n",
       "      <th>FIB</th>\n",
       "      <th>XFOCAL</th>\n",
       "      <th>YFOCAL</th>\n",
       "      <th>FIBER_RA</th>\n",
       "      <th>FIBER_DEC</th>\n",
       "      <th>OBJTYPE</th>\n",
       "      <th>MJD</th>\n",
       "      <th>TAI-BEG</th>\n",
       "      <th>TAI-END</th>\n",
       "      <th>RA</th>\n",
       "      <th>DEC</th>\n",
       "      <th>CAMERAS</th>\n",
       "      <th>AIRMASS</th>\n",
       "      <th>ALT</th>\n",
       "      <th>AZ</th>\n",
       "      <th>EXPTIME</th>\n",
       "      <th>SEEING20</th>\n",
       "      <th>SEEING50</th>\n",
       "      <th>SEEING80</th>\n",
       "      <th>RMSOFF20</th>\n",
       "      <th>RMSOFF50</th>\n",
       "      <th>RMSOFF80</th>\n",
       "      <th>DATE-OBS</th>\n",
       "      <th>REDDEN01</th>\n",
       "      <th>REDDEN02</th>\n",
       "      <th>REDDEN03</th>\n",
       "      <th>REDDEN04</th>\n",
       "      <th>REDDEN05</th>\n",
       "      <th>QUALITY</th>\n",
       "      <th>DUSTC</th>\n",
       "      <th>DUSTD</th>\n",
       "      <th>AIRTEMP</th>\n",
       "      <th>DEWPOINT</th>\n",
       "      <th>DUSTA</th>\n",
       "      <th>DUSTB</th>\n",
       "      <th>GUSTD</th>\n",
       "      <th>GUSTS</th>\n",
       "      <th>HUMIDITY</th>\n",
       "      <th>PRESSURE</th>\n",
       "      <th>WINDD</th>\n",
       "      <th>WINDS</th>\n",
       "      <th>OBS_ZENITH</th>\n",
       "      <th>ECL_LAT</th>\n",
       "      <th>ECL_LON</th>\n",
       "      <th>GAL_LAT</th>\n",
       "      <th>GAL_LON</th>\n",
       "      <th>ZODI</th>\n",
       "      <th>ISL</th>\n",
       "      <th>MOOND</th>\n",
       "      <th>MOON_SEP</th>\n",
       "      <th>MOON_ALT</th>\n",
       "      <th>MOON_AZ</th>\n",
       "      <th>MOON_ZENITH</th>\n",
       "      <th>MOON_PHASE</th>\n",
       "      <th>SUN_SEP</th>\n",
       "      <th>SUN_ALT</th>\n",
       "      <th>SUN_AZ</th>\n",
       "      <th>SUN_MOON_SEP</th>\n",
       "      <th>MONTH</th>\n",
       "      <th>PHOTO</th>\n",
       "      <th>SOLARFLUX</th>\n",
       "    </tr>\n",
       "  </thead>\n",
       "  <tbody>\n",
       "    <tr>\n",
       "      <th>0</th>\n",
       "      <td>5375</td>\n",
       "      <td>0</td>\n",
       "      <td>139856</td>\n",
       "      <td>6</td>\n",
       "      <td>292.29485</td>\n",
       "      <td>-66.910493</td>\n",
       "      <td>175.22116</td>\n",
       "      <td>9.441183</td>\n",
       "      <td>SKY</td>\n",
       "      <td>55973</td>\n",
       "      <td>4.836097e+09</td>\n",
       "      <td>4.836098e+09</td>\n",
       "      <td>173.863127</td>\n",
       "      <td>9.751595</td>\n",
       "      <td>b1</td>\n",
       "      <td>1.0929</td>\n",
       "      <td>65.574</td>\n",
       "      <td>21.058</td>\n",
       "      <td>900.86</td>\n",
       "      <td>1.4781</td>\n",
       "      <td>1.5707</td>\n",
       "      <td>1.6627</td>\n",
       "      <td>0.010105</td>\n",
       "      <td>0.01673</td>\n",
       "      <td>0.02617</td>\n",
       "      <td>2012-02-16T08:22:16</td>\n",
       "      <td>0.1849</td>\n",
       "      <td>0.1361</td>\n",
       "      <td>0.0987</td>\n",
       "      <td>0.0748</td>\n",
       "      <td>0.0531</td>\n",
       "      <td>excellent</td>\n",
       "      <td>-1.0</td>\n",
       "      <td>-1.0</td>\n",
       "      <td>-2.7</td>\n",
       "      <td>-9.5</td>\n",
       "      <td>17998.0</td>\n",
       "      <td>1341.0</td>\n",
       "      <td>188.6</td>\n",
       "      <td>14.7</td>\n",
       "      <td>55.6</td>\n",
       "      <td>21.396</td>\n",
       "      <td>185.6</td>\n",
       "      <td>13.0</td>\n",
       "      <td>24.426</td>\n",
       "      <td>6.515708</td>\n",
       "      <td>170.49452</td>\n",
       "      <td>65.038698</td>\n",
       "      <td>253.450954</td>\n",
       "      <td>4.800391</td>\n",
       "      <td>1.453083</td>\n",
       "      <td>375852.554614</td>\n",
       "      <td>88.413173</td>\n",
       "      <td>-12.84423</td>\n",
       "      <td>108.998443</td>\n",
       "      <td>102.84423</td>\n",
       "      <td>22.744556</td>\n",
       "      <td>155.554211</td>\n",
       "      <td>-63.890484</td>\n",
       "      <td>43.160219</td>\n",
       "      <td>67.960722</td>\n",
       "      <td>2</td>\n",
       "      <td>0.0</td>\n",
       "      <td>104.408165</td>\n",
       "    </tr>\n",
       "    <tr>\n",
       "      <th>1</th>\n",
       "      <td>5375</td>\n",
       "      <td>1</td>\n",
       "      <td>139856</td>\n",
       "      <td>24</td>\n",
       "      <td>246.75249</td>\n",
       "      <td>-125.213990</td>\n",
       "      <td>175.00897</td>\n",
       "      <td>9.174277</td>\n",
       "      <td>SKY</td>\n",
       "      <td>55973</td>\n",
       "      <td>4.836097e+09</td>\n",
       "      <td>4.836098e+09</td>\n",
       "      <td>173.863127</td>\n",
       "      <td>9.751595</td>\n",
       "      <td>b1</td>\n",
       "      <td>1.0929</td>\n",
       "      <td>65.574</td>\n",
       "      <td>21.058</td>\n",
       "      <td>900.86</td>\n",
       "      <td>1.4781</td>\n",
       "      <td>1.5707</td>\n",
       "      <td>1.6627</td>\n",
       "      <td>0.010105</td>\n",
       "      <td>0.01673</td>\n",
       "      <td>0.02617</td>\n",
       "      <td>2012-02-16T08:22:16</td>\n",
       "      <td>0.1849</td>\n",
       "      <td>0.1361</td>\n",
       "      <td>0.0987</td>\n",
       "      <td>0.0748</td>\n",
       "      <td>0.0531</td>\n",
       "      <td>excellent</td>\n",
       "      <td>-1.0</td>\n",
       "      <td>-1.0</td>\n",
       "      <td>-2.7</td>\n",
       "      <td>-9.5</td>\n",
       "      <td>17998.0</td>\n",
       "      <td>1341.0</td>\n",
       "      <td>188.6</td>\n",
       "      <td>14.7</td>\n",
       "      <td>55.6</td>\n",
       "      <td>21.396</td>\n",
       "      <td>185.6</td>\n",
       "      <td>13.0</td>\n",
       "      <td>24.426</td>\n",
       "      <td>6.515708</td>\n",
       "      <td>170.49452</td>\n",
       "      <td>65.038698</td>\n",
       "      <td>253.450954</td>\n",
       "      <td>4.800391</td>\n",
       "      <td>1.453083</td>\n",
       "      <td>375852.554614</td>\n",
       "      <td>88.413173</td>\n",
       "      <td>-12.84423</td>\n",
       "      <td>108.998443</td>\n",
       "      <td>102.84423</td>\n",
       "      <td>22.744556</td>\n",
       "      <td>155.554211</td>\n",
       "      <td>-63.890484</td>\n",
       "      <td>43.160219</td>\n",
       "      <td>67.960722</td>\n",
       "      <td>2</td>\n",
       "      <td>0.0</td>\n",
       "      <td>104.408165</td>\n",
       "    </tr>\n",
       "    <tr>\n",
       "      <th>2</th>\n",
       "      <td>5375</td>\n",
       "      <td>2</td>\n",
       "      <td>139856</td>\n",
       "      <td>30</td>\n",
       "      <td>244.41818</td>\n",
       "      <td>-86.143672</td>\n",
       "      <td>174.99895</td>\n",
       "      <td>9.353515</td>\n",
       "      <td>SKY</td>\n",
       "      <td>55973</td>\n",
       "      <td>4.836097e+09</td>\n",
       "      <td>4.836098e+09</td>\n",
       "      <td>173.863127</td>\n",
       "      <td>9.751595</td>\n",
       "      <td>b1</td>\n",
       "      <td>1.0929</td>\n",
       "      <td>65.574</td>\n",
       "      <td>21.058</td>\n",
       "      <td>900.86</td>\n",
       "      <td>1.4781</td>\n",
       "      <td>1.5707</td>\n",
       "      <td>1.6627</td>\n",
       "      <td>0.010105</td>\n",
       "      <td>0.01673</td>\n",
       "      <td>0.02617</td>\n",
       "      <td>2012-02-16T08:22:16</td>\n",
       "      <td>0.1849</td>\n",
       "      <td>0.1361</td>\n",
       "      <td>0.0987</td>\n",
       "      <td>0.0748</td>\n",
       "      <td>0.0531</td>\n",
       "      <td>excellent</td>\n",
       "      <td>-1.0</td>\n",
       "      <td>-1.0</td>\n",
       "      <td>-2.7</td>\n",
       "      <td>-9.5</td>\n",
       "      <td>17998.0</td>\n",
       "      <td>1341.0</td>\n",
       "      <td>188.6</td>\n",
       "      <td>14.7</td>\n",
       "      <td>55.6</td>\n",
       "      <td>21.396</td>\n",
       "      <td>185.6</td>\n",
       "      <td>13.0</td>\n",
       "      <td>24.426</td>\n",
       "      <td>6.515708</td>\n",
       "      <td>170.49452</td>\n",
       "      <td>65.038698</td>\n",
       "      <td>253.450954</td>\n",
       "      <td>4.800391</td>\n",
       "      <td>1.453083</td>\n",
       "      <td>375852.554614</td>\n",
       "      <td>88.413173</td>\n",
       "      <td>-12.84423</td>\n",
       "      <td>108.998443</td>\n",
       "      <td>102.84423</td>\n",
       "      <td>22.744556</td>\n",
       "      <td>155.554211</td>\n",
       "      <td>-63.890484</td>\n",
       "      <td>43.160219</td>\n",
       "      <td>67.960722</td>\n",
       "      <td>2</td>\n",
       "      <td>0.0</td>\n",
       "      <td>104.408165</td>\n",
       "    </tr>\n",
       "    <tr>\n",
       "      <th>3</th>\n",
       "      <td>5375</td>\n",
       "      <td>3</td>\n",
       "      <td>139856</td>\n",
       "      <td>52</td>\n",
       "      <td>226.54699</td>\n",
       "      <td>-199.449980</td>\n",
       "      <td>174.91355</td>\n",
       "      <td>8.834334</td>\n",
       "      <td>SKY</td>\n",
       "      <td>55973</td>\n",
       "      <td>4.836097e+09</td>\n",
       "      <td>4.836098e+09</td>\n",
       "      <td>173.863127</td>\n",
       "      <td>9.751595</td>\n",
       "      <td>b1</td>\n",
       "      <td>1.0929</td>\n",
       "      <td>65.574</td>\n",
       "      <td>21.058</td>\n",
       "      <td>900.86</td>\n",
       "      <td>1.4781</td>\n",
       "      <td>1.5707</td>\n",
       "      <td>1.6627</td>\n",
       "      <td>0.010105</td>\n",
       "      <td>0.01673</td>\n",
       "      <td>0.02617</td>\n",
       "      <td>2012-02-16T08:22:16</td>\n",
       "      <td>0.1849</td>\n",
       "      <td>0.1361</td>\n",
       "      <td>0.0987</td>\n",
       "      <td>0.0748</td>\n",
       "      <td>0.0531</td>\n",
       "      <td>excellent</td>\n",
       "      <td>-1.0</td>\n",
       "      <td>-1.0</td>\n",
       "      <td>-2.7</td>\n",
       "      <td>-9.5</td>\n",
       "      <td>17998.0</td>\n",
       "      <td>1341.0</td>\n",
       "      <td>188.6</td>\n",
       "      <td>14.7</td>\n",
       "      <td>55.6</td>\n",
       "      <td>21.396</td>\n",
       "      <td>185.6</td>\n",
       "      <td>13.0</td>\n",
       "      <td>24.426</td>\n",
       "      <td>6.515708</td>\n",
       "      <td>170.49452</td>\n",
       "      <td>65.038698</td>\n",
       "      <td>253.450954</td>\n",
       "      <td>4.800391</td>\n",
       "      <td>1.453083</td>\n",
       "      <td>375852.554614</td>\n",
       "      <td>88.413173</td>\n",
       "      <td>-12.84423</td>\n",
       "      <td>108.998443</td>\n",
       "      <td>102.84423</td>\n",
       "      <td>22.744556</td>\n",
       "      <td>155.554211</td>\n",
       "      <td>-63.890484</td>\n",
       "      <td>43.160219</td>\n",
       "      <td>67.960722</td>\n",
       "      <td>2</td>\n",
       "      <td>0.0</td>\n",
       "      <td>104.408165</td>\n",
       "    </tr>\n",
       "    <tr>\n",
       "      <th>4</th>\n",
       "      <td>5375</td>\n",
       "      <td>4</td>\n",
       "      <td>139856</td>\n",
       "      <td>58</td>\n",
       "      <td>222.37757</td>\n",
       "      <td>-167.478040</td>\n",
       "      <td>174.89507</td>\n",
       "      <td>8.980705</td>\n",
       "      <td>SKY</td>\n",
       "      <td>55973</td>\n",
       "      <td>4.836097e+09</td>\n",
       "      <td>4.836098e+09</td>\n",
       "      <td>173.863127</td>\n",
       "      <td>9.751595</td>\n",
       "      <td>b1</td>\n",
       "      <td>1.0929</td>\n",
       "      <td>65.574</td>\n",
       "      <td>21.058</td>\n",
       "      <td>900.86</td>\n",
       "      <td>1.4781</td>\n",
       "      <td>1.5707</td>\n",
       "      <td>1.6627</td>\n",
       "      <td>0.010105</td>\n",
       "      <td>0.01673</td>\n",
       "      <td>0.02617</td>\n",
       "      <td>2012-02-16T08:22:16</td>\n",
       "      <td>0.1849</td>\n",
       "      <td>0.1361</td>\n",
       "      <td>0.0987</td>\n",
       "      <td>0.0748</td>\n",
       "      <td>0.0531</td>\n",
       "      <td>excellent</td>\n",
       "      <td>-1.0</td>\n",
       "      <td>-1.0</td>\n",
       "      <td>-2.7</td>\n",
       "      <td>-9.5</td>\n",
       "      <td>17998.0</td>\n",
       "      <td>1341.0</td>\n",
       "      <td>188.6</td>\n",
       "      <td>14.7</td>\n",
       "      <td>55.6</td>\n",
       "      <td>21.396</td>\n",
       "      <td>185.6</td>\n",
       "      <td>13.0</td>\n",
       "      <td>24.426</td>\n",
       "      <td>6.515708</td>\n",
       "      <td>170.49452</td>\n",
       "      <td>65.038698</td>\n",
       "      <td>253.450954</td>\n",
       "      <td>4.800391</td>\n",
       "      <td>1.453083</td>\n",
       "      <td>375852.554614</td>\n",
       "      <td>88.413173</td>\n",
       "      <td>-12.84423</td>\n",
       "      <td>108.998443</td>\n",
       "      <td>102.84423</td>\n",
       "      <td>22.744556</td>\n",
       "      <td>155.554211</td>\n",
       "      <td>-63.890484</td>\n",
       "      <td>43.160219</td>\n",
       "      <td>67.960722</td>\n",
       "      <td>2</td>\n",
       "      <td>0.0</td>\n",
       "      <td>104.408165</td>\n",
       "    </tr>\n",
       "  </tbody>\n",
       "</table>\n",
       "</div>"
      ],
      "text/plain": [
       "   PLATE  SPECNO     IMG  FIB     XFOCAL      YFOCAL   FIBER_RA  FIBER_DEC  \\\n",
       "0   5375       0  139856    6  292.29485  -66.910493  175.22116   9.441183   \n",
       "1   5375       1  139856   24  246.75249 -125.213990  175.00897   9.174277   \n",
       "2   5375       2  139856   30  244.41818  -86.143672  174.99895   9.353515   \n",
       "3   5375       3  139856   52  226.54699 -199.449980  174.91355   8.834334   \n",
       "4   5375       4  139856   58  222.37757 -167.478040  174.89507   8.980705   \n",
       "\n",
       "  OBJTYPE    MJD       TAI-BEG       TAI-END          RA       DEC CAMERAS  \\\n",
       "0     SKY  55973  4.836097e+09  4.836098e+09  173.863127  9.751595      b1   \n",
       "1     SKY  55973  4.836097e+09  4.836098e+09  173.863127  9.751595      b1   \n",
       "2     SKY  55973  4.836097e+09  4.836098e+09  173.863127  9.751595      b1   \n",
       "3     SKY  55973  4.836097e+09  4.836098e+09  173.863127  9.751595      b1   \n",
       "4     SKY  55973  4.836097e+09  4.836098e+09  173.863127  9.751595      b1   \n",
       "\n",
       "   AIRMASS     ALT      AZ  EXPTIME  SEEING20  SEEING50  SEEING80  RMSOFF20  \\\n",
       "0   1.0929  65.574  21.058   900.86    1.4781    1.5707    1.6627  0.010105   \n",
       "1   1.0929  65.574  21.058   900.86    1.4781    1.5707    1.6627  0.010105   \n",
       "2   1.0929  65.574  21.058   900.86    1.4781    1.5707    1.6627  0.010105   \n",
       "3   1.0929  65.574  21.058   900.86    1.4781    1.5707    1.6627  0.010105   \n",
       "4   1.0929  65.574  21.058   900.86    1.4781    1.5707    1.6627  0.010105   \n",
       "\n",
       "   RMSOFF50  RMSOFF80             DATE-OBS  REDDEN01  REDDEN02  REDDEN03  \\\n",
       "0   0.01673   0.02617  2012-02-16T08:22:16    0.1849    0.1361    0.0987   \n",
       "1   0.01673   0.02617  2012-02-16T08:22:16    0.1849    0.1361    0.0987   \n",
       "2   0.01673   0.02617  2012-02-16T08:22:16    0.1849    0.1361    0.0987   \n",
       "3   0.01673   0.02617  2012-02-16T08:22:16    0.1849    0.1361    0.0987   \n",
       "4   0.01673   0.02617  2012-02-16T08:22:16    0.1849    0.1361    0.0987   \n",
       "\n",
       "   REDDEN04  REDDEN05    QUALITY  DUSTC  DUSTD  AIRTEMP  DEWPOINT    DUSTA  \\\n",
       "0    0.0748    0.0531  excellent   -1.0   -1.0     -2.7      -9.5  17998.0   \n",
       "1    0.0748    0.0531  excellent   -1.0   -1.0     -2.7      -9.5  17998.0   \n",
       "2    0.0748    0.0531  excellent   -1.0   -1.0     -2.7      -9.5  17998.0   \n",
       "3    0.0748    0.0531  excellent   -1.0   -1.0     -2.7      -9.5  17998.0   \n",
       "4    0.0748    0.0531  excellent   -1.0   -1.0     -2.7      -9.5  17998.0   \n",
       "\n",
       "    DUSTB  GUSTD  GUSTS  HUMIDITY  PRESSURE  WINDD  WINDS  OBS_ZENITH  \\\n",
       "0  1341.0  188.6   14.7      55.6    21.396  185.6   13.0      24.426   \n",
       "1  1341.0  188.6   14.7      55.6    21.396  185.6   13.0      24.426   \n",
       "2  1341.0  188.6   14.7      55.6    21.396  185.6   13.0      24.426   \n",
       "3  1341.0  188.6   14.7      55.6    21.396  185.6   13.0      24.426   \n",
       "4  1341.0  188.6   14.7      55.6    21.396  185.6   13.0      24.426   \n",
       "\n",
       "    ECL_LAT    ECL_LON    GAL_LAT     GAL_LON      ZODI       ISL  \\\n",
       "0  6.515708  170.49452  65.038698  253.450954  4.800391  1.453083   \n",
       "1  6.515708  170.49452  65.038698  253.450954  4.800391  1.453083   \n",
       "2  6.515708  170.49452  65.038698  253.450954  4.800391  1.453083   \n",
       "3  6.515708  170.49452  65.038698  253.450954  4.800391  1.453083   \n",
       "4  6.515708  170.49452  65.038698  253.450954  4.800391  1.453083   \n",
       "\n",
       "           MOOND   MOON_SEP  MOON_ALT     MOON_AZ  MOON_ZENITH  MOON_PHASE  \\\n",
       "0  375852.554614  88.413173 -12.84423  108.998443    102.84423   22.744556   \n",
       "1  375852.554614  88.413173 -12.84423  108.998443    102.84423   22.744556   \n",
       "2  375852.554614  88.413173 -12.84423  108.998443    102.84423   22.744556   \n",
       "3  375852.554614  88.413173 -12.84423  108.998443    102.84423   22.744556   \n",
       "4  375852.554614  88.413173 -12.84423  108.998443    102.84423   22.744556   \n",
       "\n",
       "      SUN_SEP    SUN_ALT     SUN_AZ  SUN_MOON_SEP  MONTH  PHOTO   SOLARFLUX  \n",
       "0  155.554211 -63.890484  43.160219     67.960722      2    0.0  104.408165  \n",
       "1  155.554211 -63.890484  43.160219     67.960722      2    0.0  104.408165  \n",
       "2  155.554211 -63.890484  43.160219     67.960722      2    0.0  104.408165  \n",
       "3  155.554211 -63.890484  43.160219     67.960722      2    0.0  104.408165  \n",
       "4  155.554211 -63.890484  43.160219     67.960722      2    0.0  104.408165  "
      ]
     },
     "execution_count": 10,
     "metadata": {},
     "output_type": "execute_result"
    }
   ],
   "source": [
    "Meta.head()"
   ]
  },
  {
   "cell_type": "code",
   "execution_count": 11,
   "metadata": {},
   "outputs": [
    {
     "data": {
      "text/plain": [
       "Index(['PLATE', 'SPECNO', 'IMG', 'FIB', 'XFOCAL', 'YFOCAL', 'FIBER_RA',\n",
       "       'FIBER_DEC', 'OBJTYPE', 'MJD', 'TAI-BEG', 'TAI-END', 'RA', 'DEC',\n",
       "       'CAMERAS', 'AIRMASS', 'ALT', 'AZ', 'EXPTIME', 'SEEING20', 'SEEING50',\n",
       "       'SEEING80', 'RMSOFF20', 'RMSOFF50', 'RMSOFF80', 'DATE-OBS', 'REDDEN01',\n",
       "       'REDDEN02', 'REDDEN03', 'REDDEN04', 'REDDEN05', 'QUALITY', 'DUSTC',\n",
       "       'DUSTD', 'AIRTEMP', 'DEWPOINT', 'DUSTA', 'DUSTB', 'GUSTD', 'GUSTS',\n",
       "       'HUMIDITY', 'PRESSURE', 'WINDD', 'WINDS', 'OBS_ZENITH', 'ECL_LAT',\n",
       "       'ECL_LON', 'GAL_LAT', 'GAL_LON', 'ZODI', 'ISL', 'MOOND', 'MOON_SEP',\n",
       "       'MOON_ALT', 'MOON_AZ', 'MOON_ZENITH', 'MOON_PHASE', 'SUN_SEP',\n",
       "       'SUN_ALT', 'SUN_AZ', 'SUN_MOON_SEP', 'MONTH', 'PHOTO', 'SOLARFLUX'],\n",
       "      dtype='object')"
      ]
     },
     "execution_count": 11,
     "metadata": {},
     "output_type": "execute_result"
    }
   ],
   "source": [
    "Meta.columns"
   ]
  },
  {
   "cell_type": "code",
   "execution_count": 11,
   "metadata": {},
   "outputs": [],
   "source": [
    "Dark = Meta[(Meta.AIRMASS < 1.4) & (Meta.GAL_LAT > 10) & (Meta.SUN_ALT < -15) & (Meta.MOON_ALT < 0)]"
   ]
  },
  {
   "cell_type": "code",
   "execution_count": 14,
   "metadata": {},
   "outputs": [
    {
     "data": {
      "text/plain": [
       "2469563"
      ]
     },
     "execution_count": 14,
     "metadata": {},
     "output_type": "execute_result"
    }
   ],
   "source": [
    "len(Meta)"
   ]
  },
  {
   "cell_type": "code",
   "execution_count": 15,
   "metadata": {},
   "outputs": [
    {
     "data": {
      "text/plain": [
       "1319202"
      ]
     },
     "execution_count": 15,
     "metadata": {},
     "output_type": "execute_result"
    }
   ],
   "source": [
    "len(Dark)"
   ]
  },
  {
   "cell_type": "code",
   "execution_count": 12,
   "metadata": {},
   "outputs": [],
   "source": [
    "from astropy.time import Time\n",
    "def get_year_from_mjd(mjd):\n",
    "    tt = Time(mjd, format='mjd')\n",
    "    return tt.decimalyear"
   ]
  },
  {
   "cell_type": "code",
   "execution_count": 13,
   "metadata": {},
   "outputs": [],
   "source": [
    "yeardate = get_year_from_mjd(Meta['MJD'])\n",
    "dark_yeardata = get_year_from_mjd(Dark['MJD'])"
   ]
  },
  {
   "cell_type": "code",
   "execution_count": 14,
   "metadata": {},
   "outputs": [],
   "source": [
    "from matplotlib.ticker import ScalarFormatter, FormatStrFormatter"
   ]
  },
  {
   "cell_type": "code",
   "execution_count": 17,
   "metadata": {},
   "outputs": [
    {
     "data": {
      "text/plain": [
       "(2009.5, 2014.6)"
      ]
     },
     "execution_count": 17,
     "metadata": {},
     "output_type": "execute_result"
    },
    {
     "data": {
      "image/png": "[encoded data removed]",
      "text/plain": [
       "<matplotlib.figure.Figure at 0x2aaaea13e358>"
      ]
     },
     "metadata": {},
     "output_type": "display_data"
    }
   ],
   "source": [
    "fig, ax1 = plt.subplots(1, figsize=(10,6))\n",
    "bins = numpy.linspace(2009.5, 2014.5, 100)\n",
    "ax1.hist(yeardate, bins = bins, alpha = 0.7, label = 'All')\n",
    "ax1.hist(dark_yeardata, bins = bins, color = 'k', alpha = 0.5, label = 'Dark')\n",
    "ax1.legend()\n",
    "ax1.set_ylabel(\"No. Sky Spectra\")\n",
    "ax1.set_xlabel(\"Year\")\n",
    "ax1.xaxis.set_major_formatter(FormatStrFormatter('%d'))\n",
    "ax1.set_xlim([2009.5,2014.6])"
   ]
  },
  {
   "cell_type": "code",
   "execution_count": 24,
   "metadata": {},
   "outputs": [
    {
     "data": {
      "text/plain": [
       "<matplotlib.legend.Legend at 0x2aaaea3aa2b0>"
      ]
     },
     "execution_count": 24,
     "metadata": {},
     "output_type": "execute_result"
    },
    {
     "data": {
      "image/png": "[encoded data removed]",
      "text/plain": [
       "<matplotlib.figure.Figure at 0x2aaae9ed5e48>"
      ]
     },
     "metadata": {},
     "output_type": "display_data"
    }
   ],
   "source": [
    "fig, plt.figure(figsize = (10,6),)\n",
    "T = Meta[Meta['ALT']>0]\n",
    "ax1 = plt.subplot(111, projection='polar')\n",
    "\n",
    "ax1.scatter(T['AZ'],T['ALT'],alpha = 0.5,label='All')\n",
    "ax1.scatter(Dark['AZ'],Dark['ALT'],  alpha=0.3, color = 'k', label = \"Dark\")\n",
    "ax1.legend(loc='upper right')\n",
    "#ax2 = ax1.twinx()\n",
    "#mn,mx = ax1.get_ylim()\n",
    "#print(mn,mx)\n",
    "#ax2.set_yticks([mx,mx*0.5,mx*(1/6.),mx*0.1])\n",
    "#ax2.set_yticklabels(['1.0','1.2','1.6','1.8'])\n",
    "\n",
    "#ax1.set_xlabel(\"Azimuth (deg.)\")\n",
    "#ax1.set_ylabel(\"Altitude (deg.)\")\n",
    "#ax2.set_ylabel(\"Airmass\")\n",
    "\n",
    "#ax1.legend(loc='upper right')"
   ]
  },
  {
   "cell_type": "code",
   "execution_count": 25,
   "metadata": {},
   "outputs": [
    {
     "data": {
      "text/plain": [
       "<matplotlib.legend.Legend at 0x2aaaea3b8898>"
      ]
     },
     "execution_count": 25,
     "metadata": {},
     "output_type": "execute_result"
    },
    {
     "data": {
      "image/png": "[encoded data removed]",
      "text/plain": [
       "<matplotlib.figure.Figure at 0x2aaaea390f28>"
      ]
     },
     "metadata": {},
     "output_type": "display_data"
    }
   ],
   "source": [
    "plt.figure(figsize = (10,6))\n",
    "ret = plt.hist(Meta['MONTH'],bins=12,edgecolor='black',alpha=0.7,label='All')\n",
    "ret = plt.hist(Dark['MONTH'],bins=12,alpha = 0.5, color = 'black',  edgecolor='black', label = 'Dark')\n",
    "months = ['','JAN','FEB','MAR','APR','MAY','JUN','JUL','AUG','SEP','OCT','NOV','DEC']\n",
    "plt.xticks(np.linspace(0,12,13),months)\n",
    "plt.xlim(1,12)\n",
    "plt.xlabel('Month of Observation')\n",
    "plt.ylabel ('# of Sky Spectra')\n",
    "plt.legend()"
   ]
  },
  {
   "cell_type": "markdown",
   "metadata": {},
   "source": [
    "## Add Data to DataFrame"
   ]
  },
  {
   "cell_type": "code",
   "execution_count": 27,
   "metadata": {},
   "outputs": [],
   "source": [
    "apache = astral.Observer(APACHE.lat.value, APACHE.lon.value, APACHE.height.value)"
   ]
  },
  {
   "cell_type": "code",
   "execution_count": 29,
   "metadata": {},
   "outputs": [],
   "source": [
    "obs_time = 0.5*((Meta['TAI-BEG']+Meta['TAI-END'])/86400.)\n",
    "start_time = Time(obs_time, scale='tai', format='mjd', location=APACHE)"
   ]
  },
  {
   "cell_type": "code",
   "execution_count": 146,
   "metadata": {},
   "outputs": [],
   "source": [
    "sun_rise = [Time(astral.sun.sun(apache, Time(t,scale='tai',format='mjd').datetime)['sunrise'], scale='utc') for t in Dark['MJD']]"
   ]
  },
  {
   "cell_type": "code",
   "execution_count": 30,
   "metadata": {},
   "outputs": [],
   "source": [
    "sun_set = [Time(astral.sun.sun(apache, (Time(t,scale='tai',format='mjd').datetime - timedelta(days=1)))['sunset'], scale='utc') for t in Meta['MJD']]"
   ]
  },
  {
   "cell_type": "code",
   "execution_count": 160,
   "metadata": {},
   "outputs": [
    {
     "name": "stderr",
     "output_type": "stream",
     "text": [
      "/global/homes/p/parkerf/.conda/envs/myjupkernel/lib/python3.6/site-packages/ipykernel_launcher.py:1: SettingWithCopyWarning: \n",
      "A value is trying to be set on a copy of a slice from a DataFrame.\n",
      "Try using .loc[row_indexer,col_indexer] = value instead\n",
      "\n",
      "See the caveats in the documentation: http://pandas.pydata.org/pandas-docs/stable/indexing.html#indexing-view-versus-copy\n",
      "  \"\"\"Entry point for launching an IPython kernel.\n",
      "/global/homes/p/parkerf/.conda/envs/myjupkernel/lib/python3.6/site-packages/ipykernel_launcher.py:2: SettingWithCopyWarning: \n",
      "A value is trying to be set on a copy of a slice from a DataFrame.\n",
      "Try using .loc[row_indexer,col_indexer] = value instead\n",
      "\n",
      "See the caveats in the documentation: http://pandas.pydata.org/pandas-docs/stable/indexing.html#indexing-view-versus-copy\n",
      "  \n"
     ]
    }
   ],
   "source": [
    "Dark['SUN_RISE'] = sun_rise\n",
    "Dark['SUN_SET'] = sun_set"
   ]
  },
  {
   "cell_type": "code",
   "execution_count": 162,
   "metadata": {},
   "outputs": [
    {
     "name": "stderr",
     "output_type": "stream",
     "text": [
      "/global/homes/p/parkerf/.conda/envs/myjupkernel/lib/python3.6/site-packages/ipykernel_launcher.py:1: SettingWithCopyWarning: \n",
      "A value is trying to be set on a copy of a slice from a DataFrame.\n",
      "Try using .loc[row_indexer,col_indexer] = value instead\n",
      "\n",
      "See the caveats in the documentation: http://pandas.pydata.org/pandas-docs/stable/indexing.html#indexing-view-versus-copy\n",
      "  \"\"\"Entry point for launching an IPython kernel.\n"
     ]
    }
   ],
   "source": [
    "Dark['HOUR_FRAC'] = [(start_time[i] - x)/(sun_rise[i] - x) for i, x in enumerate(sun_set)]"
   ]
  },
  {
   "cell_type": "code",
   "execution_count": 163,
   "metadata": {},
   "outputs": [
    {
     "name": "stderr",
     "output_type": "stream",
     "text": [
      "/global/homes/p/parkerf/.conda/envs/myjupkernel/lib/python3.6/site-packages/ipykernel_launcher.py:1: SettingWithCopyWarning: \n",
      "A value is trying to be set on a copy of a slice from a DataFrame.\n",
      "Try using .loc[row_indexer,col_indexer] = value instead\n",
      "\n",
      "See the caveats in the documentation: http://pandas.pydata.org/pandas-docs/stable/indexing.html#indexing-view-versus-copy\n",
      "  \"\"\"Entry point for launching an IPython kernel.\n"
     ]
    }
   ],
   "source": [
    "Dark['MONTH'] = [time.datetime.month for time in start_time]"
   ]
  },
  {
   "cell_type": "code",
   "execution_count": 164,
   "metadata": {},
   "outputs": [],
   "source": [
    "Dark.to_csv('dark_meta_all_0402.csv',index=False)"
   ]
  },
  {
   "cell_type": "code",
   "execution_count": 166,
   "metadata": {},
   "outputs": [
    {
     "data": {
      "text/plain": [
       "array([ 1,  2,  3,  4,  5,  6,  7,  8,  9, 10, 11, 12])"
      ]
     },
     "execution_count": 166,
     "metadata": {},
     "output_type": "execute_result"
    }
   ],
   "source": [
    "np.unique(Dark['MONTH'])"
   ]
  },
  {
   "cell_type": "code",
   "execution_count": 128,
   "metadata": {},
   "outputs": [],
   "source": [
    "months = {1.:'JAN',2.:'FEB',3.:'MAR',4.:'APR',5.:'MAY',6.:'JUN',7.:'JUL',8.:'AUG',9.:'SEP',10.:'OCT',11.:'NOV',12.:'DCM'}\n",
    "for month in months.values():\n",
    "    Meta[month] = 0"
   ]
  },
  {
   "cell_type": "code",
   "execution_count": 130,
   "metadata": {},
   "outputs": [
    {
     "data": {
      "text/plain": [
       "array([  1.,   2.,   3.,   4.,   5.,   6.,   7.,   8.,   9.,  10.,  11.,\n",
       "        12.,  13.])"
      ]
     },
     "execution_count": 130,
     "metadata": {},
     "output_type": "execute_result"
    }
   ],
   "source": [
    "np.unique(np.floor(list(Meta.MONTH_FRAC)))"
   ]
  },
  {
   "cell_type": "code",
   "execution_count": 168,
   "metadata": {},
   "outputs": [],
   "source": [
    "month_landed = [months[x] for x in list(Dark.MONTH)]"
   ]
  },
  {
   "cell_type": "code",
   "execution_count": 170,
   "metadata": {},
   "outputs": [],
   "source": [
    "Dark.reset_index(inplace=True, drop=True)"
   ]
  },
  {
   "cell_type": "code",
   "execution_count": 173,
   "metadata": {},
   "outputs": [],
   "source": [
    "for ix in Dark.index:\n",
    "    Dark.at[ix, month_landed[ix]] = 1"
   ]
  },
  {
   "cell_type": "code",
   "execution_count": 181,
   "metadata": {},
   "outputs": [
    {
     "data": {
      "text/plain": [
       "Index(['PLATE', 'SPECNO', 'IMG', 'FIB', 'XFOCAL', 'YFOCAL', 'FIBER_RA',\n",
       "       'FIBER_DEC', 'OBJTYPE', 'MJD', 'TAI-BEG', 'TAI-END', 'RA', 'DEC',\n",
       "       'CAMERAS', 'AIRMASS', 'ALT', 'AZ', 'EXPTIME', 'SEEING20', 'SEEING50',\n",
       "       'SEEING80', 'RMSOFF20', 'RMSOFF50', 'RMSOFF80', 'DATE-OBS', 'REDDEN01',\n",
       "       'REDDEN02', 'REDDEN03', 'REDDEN04', 'REDDEN05', 'QUALITY', 'DUSTC',\n",
       "       'DUSTD', 'AIRTEMP', 'DEWPOINT', 'DUSTA', 'DUSTB', 'GUSTD', 'GUSTS',\n",
       "       'HUMIDITY', 'PRESSURE', 'WINDD', 'WINDS', 'OBS_ZENITH', 'ECL_LAT',\n",
       "       'ECL_LON', 'GAL_LAT', 'GAL_LON', 'ZODI', 'ISL', 'MOOND', 'MOON_SEP',\n",
       "       'MOON_ALT', 'MOON_AZ', 'MOON_ZENITH', 'MOON_PHASE', 'SUN_SEP',\n",
       "       'SUN_ALT', 'SUN_AZ', 'SUN_MOON_SEP', 'MONTH', 'PHOTO', 'SOLARFLUX',\n",
       "       'HOUR', 'SUN_RISE', 'SUN_SET', 'MONTH_FRAC', 'JAN', 'FEB', 'MAR', 'APR',\n",
       "       'MAY', 'JUN', 'JUL', 'AUG', 'SEP', 'OCT', 'NOV', 'HOUR_FRAC', 'H1',\n",
       "       'H2', 'H3', 'H4', 'H5', 'H6'],\n",
       "      dtype='object')"
      ]
     },
     "execution_count": 181,
     "metadata": {},
     "output_type": "execute_result"
    }
   ],
   "source": [
    "Dark.columns"
   ]
  },
  {
   "cell_type": "code",
   "execution_count": 180,
   "metadata": {},
   "outputs": [
    {
     "name": "stderr",
     "output_type": "stream",
     "text": [
      "/global/homes/p/parkerf/.conda/envs/myjupkernel/lib/python3.6/site-packages/ipykernel_launcher.py:3: SettingWithCopyWarning: \n",
      "A value is trying to be set on a copy of a slice from a DataFrame.\n",
      "Try using .loc[row_indexer,col_indexer] = value instead\n",
      "\n",
      "See the caveats in the documentation: http://pandas.pydata.org/pandas-docs/stable/indexing.html#indexing-view-versus-copy\n",
      "  This is separate from the ipykernel package so we can avoid doing imports until\n"
     ]
    }
   ],
   "source": [
    "hours = ['H1','H2','H3','H4','H5','H6']\n",
    "for hour in hours:\n",
    "    Dark[hour] = 0"
   ]
  },
  {
   "cell_type": "code",
   "execution_count": 193,
   "metadata": {},
   "outputs": [
    {
     "ename": "IndexError",
     "evalue": "index 0 is out of bounds for axis 0 with size 0",
     "output_type": "error",
     "traceback": [
      "\u001b[0;31m---------------------------------------------------------------------------\u001b[0m",
      "\u001b[0;31mIndexError\u001b[0m                                Traceback (most recent call last)",
      "\u001b[0;32m<ipython-input-193-c1a337580d7d>\u001b[0m in \u001b[0;36m<module>\u001b[0;34m()\u001b[0m\n\u001b[0;32m----> 1\u001b[0;31m \u001b[0mhour_segment\u001b[0m \u001b[0;34m=\u001b[0m \u001b[0;34m[\u001b[0m\u001b[0mhours\u001b[0m\u001b[0;34m[\u001b[0m\u001b[0mnp\u001b[0m\u001b[0;34m.\u001b[0m\u001b[0mwhere\u001b[0m\u001b[0;34m(\u001b[0m\u001b[0mlevels\u001b[0m\u001b[0;34m>=\u001b[0m\u001b[0mh\u001b[0m\u001b[0;34m)\u001b[0m\u001b[0;34m[\u001b[0m\u001b[0;36m0\u001b[0m\u001b[0;34m]\u001b[0m\u001b[0;34m[\u001b[0m\u001b[0;36m0\u001b[0m\u001b[0;34m]\u001b[0m\u001b[0;34m-\u001b[0m\u001b[0;36m1\u001b[0m\u001b[0;34m]\u001b[0m \u001b[0;32mfor\u001b[0m \u001b[0mh\u001b[0m \u001b[0;32min\u001b[0m \u001b[0mDark\u001b[0m\u001b[0;34m.\u001b[0m\u001b[0mHOUR_FRAC\u001b[0m\u001b[0;34m]\u001b[0m\u001b[0;34m\u001b[0m\u001b[0m\n\u001b[0m",
      "\u001b[0;32m<ipython-input-193-c1a337580d7d>\u001b[0m in \u001b[0;36m<listcomp>\u001b[0;34m(.0)\u001b[0m\n\u001b[0;32m----> 1\u001b[0;31m \u001b[0mhour_segment\u001b[0m \u001b[0;34m=\u001b[0m \u001b[0;34m[\u001b[0m\u001b[0mhours\u001b[0m\u001b[0;34m[\u001b[0m\u001b[0mnp\u001b[0m\u001b[0;34m.\u001b[0m\u001b[0mwhere\u001b[0m\u001b[0;34m(\u001b[0m\u001b[0mlevels\u001b[0m\u001b[0;34m>=\u001b[0m\u001b[0mh\u001b[0m\u001b[0;34m)\u001b[0m\u001b[0;34m[\u001b[0m\u001b[0;36m0\u001b[0m\u001b[0;34m]\u001b[0m\u001b[0;34m[\u001b[0m\u001b[0;36m0\u001b[0m\u001b[0;34m]\u001b[0m\u001b[0;34m-\u001b[0m\u001b[0;36m1\u001b[0m\u001b[0;34m]\u001b[0m \u001b[0;32mfor\u001b[0m \u001b[0mh\u001b[0m \u001b[0;32min\u001b[0m \u001b[0mDark\u001b[0m\u001b[0;34m.\u001b[0m\u001b[0mHOUR_FRAC\u001b[0m\u001b[0;34m]\u001b[0m\u001b[0;34m\u001b[0m\u001b[0m\n\u001b[0m",
      "\u001b[0;31mIndexError\u001b[0m: index 0 is out of bounds for axis 0 with size 0"
     ]
    }
   ],
   "source": [
    "hour_segment = [hours[np.where(levels>=h)[0][0]-1] for h in Dark.HOUR_FRAC]"
   ]
  },
  {
   "cell_type": "code",
   "execution_count": 203,
   "metadata": {},
   "outputs": [],
   "source": [
    "hours = np.array(['H1','H2','H3','H4','H5','H6'])\n",
    "hour_segment = []\n",
    "for h in Dark.HOUR_FRAC:\n",
    "    try:\n",
    "        x = np.where((levels>=h))[0][0]-1\n",
    "        hour_segment.append(hours[x])\n",
    "    except:\n",
    "        hour_segment.append(np.nan)"
   ]
  },
  {
   "cell_type": "code",
   "execution_count": 208,
   "metadata": {},
   "outputs": [],
   "source": [
    "for ix in Dark.index:\n",
    "    try:\n",
    "        Dark.at[ix, hour_segment[ix]] = 1\n",
    "    except:\n",
    "        pass"
   ]
  },
  {
   "cell_type": "code",
   "execution_count": null,
   "metadata": {},
   "outputs": [],
   "source": [
    "Dark.to_csv('dark_meta_all.csv',index=False)"
   ]
  },
  {
   "cell_type": "code",
   "execution_count": 53,
   "metadata": {},
   "outputs": [],
   "source": [
    "Dark = Meta[(Meta.AIRMASS < 1.4) & (Meta.GAL_LAT > 10) & (Meta.SUN_ALT < -15) & (Meta.MOON_ALT < 0)]"
   ]
  },
  {
   "cell_type": "code",
   "execution_count": 37,
   "metadata": {},
   "outputs": [
    {
     "data": {
      "text/plain": [
       "array([ 601.78178339,  601.90188494])"
      ]
     },
     "execution_count": 37,
     "metadata": {},
     "output_type": "execute_result"
    }
   ],
   "source": [
    "np.unique(Dark[Dark['HOUR'] >13].HOUR)"
   ]
  },
  {
   "cell_type": "code",
   "execution_count": 26,
   "metadata": {},
   "outputs": [
    {
     "ename": "KeyError",
     "evalue": "'HOUR'",
     "output_type": "error",
     "traceback": [
      "\u001b[0;31m---------------------------------------------------------------------------\u001b[0m",
      "\u001b[0;31mKeyError\u001b[0m                                  Traceback (most recent call last)",
      "\u001b[0;32m~/.conda/envs/myjupkernel/lib/python3.6/site-packages/pandas/core/indexes/base.py\u001b[0m in \u001b[0;36mget_loc\u001b[0;34m(self, key, method, tolerance)\u001b[0m\n\u001b[1;32m   2441\u001b[0m             \u001b[0;32mtry\u001b[0m\u001b[0;34m:\u001b[0m\u001b[0;34m\u001b[0m\u001b[0m\n\u001b[0;32m-> 2442\u001b[0;31m                 \u001b[0;32mreturn\u001b[0m \u001b[0mself\u001b[0m\u001b[0;34m.\u001b[0m\u001b[0m_engine\u001b[0m\u001b[0;34m.\u001b[0m\u001b[0mget_loc\u001b[0m\u001b[0;34m(\u001b[0m\u001b[0mkey\u001b[0m\u001b[0;34m)\u001b[0m\u001b[0;34m\u001b[0m\u001b[0m\n\u001b[0m\u001b[1;32m   2443\u001b[0m             \u001b[0;32mexcept\u001b[0m \u001b[0mKeyError\u001b[0m\u001b[0;34m:\u001b[0m\u001b[0;34m\u001b[0m\u001b[0m\n",
      "\u001b[0;32mpandas/_libs/index.pyx\u001b[0m in \u001b[0;36mpandas._libs.index.IndexEngine.get_loc (pandas/_libs/index.c:5280)\u001b[0;34m()\u001b[0m\n",
      "\u001b[0;32mpandas/_libs/index.pyx\u001b[0m in \u001b[0;36mpandas._libs.index.IndexEngine.get_loc (pandas/_libs/index.c:5126)\u001b[0;34m()\u001b[0m\n",
      "\u001b[0;32mpandas/_libs/hashtable_class_helper.pxi\u001b[0m in \u001b[0;36mpandas._libs.hashtable.PyObjectHashTable.get_item (pandas/_libs/hashtable.c:20523)\u001b[0;34m()\u001b[0m\n",
      "\u001b[0;32mpandas/_libs/hashtable_class_helper.pxi\u001b[0m in \u001b[0;36mpandas._libs.hashtable.PyObjectHashTable.get_item (pandas/_libs/hashtable.c:20477)\u001b[0;34m()\u001b[0m\n",
      "\u001b[0;31mKeyError\u001b[0m: 'HOUR'",
      "\nDuring handling of the above exception, another exception occurred:\n",
      "\u001b[0;31mKeyError\u001b[0m                                  Traceback (most recent call last)",
      "\u001b[0;32m<ipython-input-26-badb247806dc>\u001b[0m in \u001b[0;36m<module>\u001b[0;34m()\u001b[0m\n\u001b[1;32m      1\u001b[0m \u001b[0mplt\u001b[0m\u001b[0;34m.\u001b[0m\u001b[0mfigure\u001b[0m\u001b[0;34m(\u001b[0m\u001b[0mfigsize\u001b[0m \u001b[0;34m=\u001b[0m \u001b[0;34m(\u001b[0m\u001b[0;36m10\u001b[0m\u001b[0;34m,\u001b[0m\u001b[0;36m6\u001b[0m\u001b[0;34m)\u001b[0m\u001b[0;34m)\u001b[0m\u001b[0;34m\u001b[0m\u001b[0m\n\u001b[1;32m      2\u001b[0m \u001b[0mbins\u001b[0m \u001b[0;34m=\u001b[0m \u001b[0mnp\u001b[0m\u001b[0;34m.\u001b[0m\u001b[0mlinspace\u001b[0m\u001b[0;34m(\u001b[0m\u001b[0;36m0\u001b[0m\u001b[0;34m,\u001b[0m\u001b[0;36m12\u001b[0m\u001b[0;34m,\u001b[0m\u001b[0;36m13\u001b[0m\u001b[0;34m)\u001b[0m\u001b[0;34m\u001b[0m\u001b[0m\n\u001b[0;32m----> 3\u001b[0;31m \u001b[0mthese_hours\u001b[0m \u001b[0;34m=\u001b[0m \u001b[0mMeta\u001b[0m\u001b[0;34m[\u001b[0m\u001b[0mMeta\u001b[0m\u001b[0;34m[\u001b[0m\u001b[0;34m'HOUR'\u001b[0m\u001b[0;34m]\u001b[0m \u001b[0;34m<\u001b[0m \u001b[0;36m500\u001b[0m\u001b[0;34m]\u001b[0m\u001b[0;34m[\u001b[0m\u001b[0;34m'HOUR'\u001b[0m\u001b[0;34m]\u001b[0m\u001b[0;34m\u001b[0m\u001b[0m\n\u001b[0m\u001b[1;32m      4\u001b[0m \u001b[0mdark_hours\u001b[0m \u001b[0;34m=\u001b[0m \u001b[0mDark\u001b[0m\u001b[0;34m[\u001b[0m\u001b[0mDark\u001b[0m\u001b[0;34m[\u001b[0m\u001b[0;34m'HOUR'\u001b[0m\u001b[0;34m]\u001b[0m \u001b[0;34m<\u001b[0m \u001b[0;36m500\u001b[0m\u001b[0;34m]\u001b[0m\u001b[0;34m[\u001b[0m\u001b[0;34m'HOUR'\u001b[0m\u001b[0;34m]\u001b[0m\u001b[0;34m\u001b[0m\u001b[0m\n\u001b[1;32m      5\u001b[0m \u001b[0mret\u001b[0m \u001b[0;34m=\u001b[0m \u001b[0mplt\u001b[0m\u001b[0;34m.\u001b[0m\u001b[0mhist\u001b[0m\u001b[0;34m(\u001b[0m\u001b[0mthese_hours\u001b[0m\u001b[0;34m,\u001b[0m\u001b[0mbins\u001b[0m\u001b[0;34m=\u001b[0m\u001b[0mbins\u001b[0m\u001b[0;34m,\u001b[0m\u001b[0medgecolor\u001b[0m\u001b[0;34m=\u001b[0m\u001b[0;34m'black'\u001b[0m\u001b[0;34m,\u001b[0m\u001b[0malpha\u001b[0m\u001b[0;34m=\u001b[0m\u001b[0;36m0.7\u001b[0m\u001b[0;34m,\u001b[0m\u001b[0mlabel\u001b[0m\u001b[0;34m=\u001b[0m\u001b[0;34m'_nolegend_'\u001b[0m\u001b[0;34m)\u001b[0m\u001b[0;34m\u001b[0m\u001b[0m\n",
      "\u001b[0;32m~/.conda/envs/myjupkernel/lib/python3.6/site-packages/pandas/core/frame.py\u001b[0m in \u001b[0;36m__getitem__\u001b[0;34m(self, key)\u001b[0m\n\u001b[1;32m   1962\u001b[0m             \u001b[0;32mreturn\u001b[0m \u001b[0mself\u001b[0m\u001b[0;34m.\u001b[0m\u001b[0m_getitem_multilevel\u001b[0m\u001b[0;34m(\u001b[0m\u001b[0mkey\u001b[0m\u001b[0;34m)\u001b[0m\u001b[0;34m\u001b[0m\u001b[0m\n\u001b[1;32m   1963\u001b[0m         \u001b[0;32melse\u001b[0m\u001b[0;34m:\u001b[0m\u001b[0;34m\u001b[0m\u001b[0m\n\u001b[0;32m-> 1964\u001b[0;31m             \u001b[0;32mreturn\u001b[0m \u001b[0mself\u001b[0m\u001b[0;34m.\u001b[0m\u001b[0m_getitem_column\u001b[0m\u001b[0;34m(\u001b[0m\u001b[0mkey\u001b[0m\u001b[0;34m)\u001b[0m\u001b[0;34m\u001b[0m\u001b[0m\n\u001b[0m\u001b[1;32m   1965\u001b[0m \u001b[0;34m\u001b[0m\u001b[0m\n\u001b[1;32m   1966\u001b[0m     \u001b[0;32mdef\u001b[0m \u001b[0m_getitem_column\u001b[0m\u001b[0;34m(\u001b[0m\u001b[0mself\u001b[0m\u001b[0;34m,\u001b[0m \u001b[0mkey\u001b[0m\u001b[0;34m)\u001b[0m\u001b[0;34m:\u001b[0m\u001b[0;34m\u001b[0m\u001b[0m\n",
      "\u001b[0;32m~/.conda/envs/myjupkernel/lib/python3.6/site-packages/pandas/core/frame.py\u001b[0m in \u001b[0;36m_getitem_column\u001b[0;34m(self, key)\u001b[0m\n\u001b[1;32m   1969\u001b[0m         \u001b[0;31m# get column\u001b[0m\u001b[0;34m\u001b[0m\u001b[0;34m\u001b[0m\u001b[0m\n\u001b[1;32m   1970\u001b[0m         \u001b[0;32mif\u001b[0m \u001b[0mself\u001b[0m\u001b[0;34m.\u001b[0m\u001b[0mcolumns\u001b[0m\u001b[0;34m.\u001b[0m\u001b[0mis_unique\u001b[0m\u001b[0;34m:\u001b[0m\u001b[0;34m\u001b[0m\u001b[0m\n\u001b[0;32m-> 1971\u001b[0;31m             \u001b[0;32mreturn\u001b[0m \u001b[0mself\u001b[0m\u001b[0;34m.\u001b[0m\u001b[0m_get_item_cache\u001b[0m\u001b[0;34m(\u001b[0m\u001b[0mkey\u001b[0m\u001b[0;34m)\u001b[0m\u001b[0;34m\u001b[0m\u001b[0m\n\u001b[0m\u001b[1;32m   1972\u001b[0m \u001b[0;34m\u001b[0m\u001b[0m\n\u001b[1;32m   1973\u001b[0m         \u001b[0;31m# duplicate columns & possible reduce dimensionality\u001b[0m\u001b[0;34m\u001b[0m\u001b[0;34m\u001b[0m\u001b[0m\n",
      "\u001b[0;32m~/.conda/envs/myjupkernel/lib/python3.6/site-packages/pandas/core/generic.py\u001b[0m in \u001b[0;36m_get_item_cache\u001b[0;34m(self, item)\u001b[0m\n\u001b[1;32m   1643\u001b[0m         \u001b[0mres\u001b[0m \u001b[0;34m=\u001b[0m \u001b[0mcache\u001b[0m\u001b[0;34m.\u001b[0m\u001b[0mget\u001b[0m\u001b[0;34m(\u001b[0m\u001b[0mitem\u001b[0m\u001b[0;34m)\u001b[0m\u001b[0;34m\u001b[0m\u001b[0m\n\u001b[1;32m   1644\u001b[0m         \u001b[0;32mif\u001b[0m \u001b[0mres\u001b[0m \u001b[0;32mis\u001b[0m \u001b[0;32mNone\u001b[0m\u001b[0;34m:\u001b[0m\u001b[0;34m\u001b[0m\u001b[0m\n\u001b[0;32m-> 1645\u001b[0;31m             \u001b[0mvalues\u001b[0m \u001b[0;34m=\u001b[0m \u001b[0mself\u001b[0m\u001b[0;34m.\u001b[0m\u001b[0m_data\u001b[0m\u001b[0;34m.\u001b[0m\u001b[0mget\u001b[0m\u001b[0;34m(\u001b[0m\u001b[0mitem\u001b[0m\u001b[0;34m)\u001b[0m\u001b[0;34m\u001b[0m\u001b[0m\n\u001b[0m\u001b[1;32m   1646\u001b[0m             \u001b[0mres\u001b[0m \u001b[0;34m=\u001b[0m \u001b[0mself\u001b[0m\u001b[0;34m.\u001b[0m\u001b[0m_box_item_values\u001b[0m\u001b[0;34m(\u001b[0m\u001b[0mitem\u001b[0m\u001b[0;34m,\u001b[0m \u001b[0mvalues\u001b[0m\u001b[0;34m)\u001b[0m\u001b[0;34m\u001b[0m\u001b[0m\n\u001b[1;32m   1647\u001b[0m             \u001b[0mcache\u001b[0m\u001b[0;34m[\u001b[0m\u001b[0mitem\u001b[0m\u001b[0;34m]\u001b[0m \u001b[0;34m=\u001b[0m \u001b[0mres\u001b[0m\u001b[0;34m\u001b[0m\u001b[0m\n",
      "\u001b[0;32m~/.conda/envs/myjupkernel/lib/python3.6/site-packages/pandas/core/internals.py\u001b[0m in \u001b[0;36mget\u001b[0;34m(self, item, fastpath)\u001b[0m\n\u001b[1;32m   3588\u001b[0m \u001b[0;34m\u001b[0m\u001b[0m\n\u001b[1;32m   3589\u001b[0m             \u001b[0;32mif\u001b[0m \u001b[0;32mnot\u001b[0m \u001b[0misnull\u001b[0m\u001b[0;34m(\u001b[0m\u001b[0mitem\u001b[0m\u001b[0;34m)\u001b[0m\u001b[0;34m:\u001b[0m\u001b[0;34m\u001b[0m\u001b[0m\n\u001b[0;32m-> 3590\u001b[0;31m                 \u001b[0mloc\u001b[0m \u001b[0;34m=\u001b[0m \u001b[0mself\u001b[0m\u001b[0;34m.\u001b[0m\u001b[0mitems\u001b[0m\u001b[0;34m.\u001b[0m\u001b[0mget_loc\u001b[0m\u001b[0;34m(\u001b[0m\u001b[0mitem\u001b[0m\u001b[0;34m)\u001b[0m\u001b[0;34m\u001b[0m\u001b[0m\n\u001b[0m\u001b[1;32m   3591\u001b[0m             \u001b[0;32melse\u001b[0m\u001b[0;34m:\u001b[0m\u001b[0;34m\u001b[0m\u001b[0m\n\u001b[1;32m   3592\u001b[0m                 \u001b[0mindexer\u001b[0m \u001b[0;34m=\u001b[0m \u001b[0mnp\u001b[0m\u001b[0;34m.\u001b[0m\u001b[0marange\u001b[0m\u001b[0;34m(\u001b[0m\u001b[0mlen\u001b[0m\u001b[0;34m(\u001b[0m\u001b[0mself\u001b[0m\u001b[0;34m.\u001b[0m\u001b[0mitems\u001b[0m\u001b[0;34m)\u001b[0m\u001b[0;34m)\u001b[0m\u001b[0;34m[\u001b[0m\u001b[0misnull\u001b[0m\u001b[0;34m(\u001b[0m\u001b[0mself\u001b[0m\u001b[0;34m.\u001b[0m\u001b[0mitems\u001b[0m\u001b[0;34m)\u001b[0m\u001b[0;34m]\u001b[0m\u001b[0;34m\u001b[0m\u001b[0m\n",
      "\u001b[0;32m~/.conda/envs/myjupkernel/lib/python3.6/site-packages/pandas/core/indexes/base.py\u001b[0m in \u001b[0;36mget_loc\u001b[0;34m(self, key, method, tolerance)\u001b[0m\n\u001b[1;32m   2442\u001b[0m                 \u001b[0;32mreturn\u001b[0m \u001b[0mself\u001b[0m\u001b[0;34m.\u001b[0m\u001b[0m_engine\u001b[0m\u001b[0;34m.\u001b[0m\u001b[0mget_loc\u001b[0m\u001b[0;34m(\u001b[0m\u001b[0mkey\u001b[0m\u001b[0;34m)\u001b[0m\u001b[0;34m\u001b[0m\u001b[0m\n\u001b[1;32m   2443\u001b[0m             \u001b[0;32mexcept\u001b[0m \u001b[0mKeyError\u001b[0m\u001b[0;34m:\u001b[0m\u001b[0;34m\u001b[0m\u001b[0m\n\u001b[0;32m-> 2444\u001b[0;31m                 \u001b[0;32mreturn\u001b[0m \u001b[0mself\u001b[0m\u001b[0;34m.\u001b[0m\u001b[0m_engine\u001b[0m\u001b[0;34m.\u001b[0m\u001b[0mget_loc\u001b[0m\u001b[0;34m(\u001b[0m\u001b[0mself\u001b[0m\u001b[0;34m.\u001b[0m\u001b[0m_maybe_cast_indexer\u001b[0m\u001b[0;34m(\u001b[0m\u001b[0mkey\u001b[0m\u001b[0;34m)\u001b[0m\u001b[0;34m)\u001b[0m\u001b[0;34m\u001b[0m\u001b[0m\n\u001b[0m\u001b[1;32m   2445\u001b[0m \u001b[0;34m\u001b[0m\u001b[0m\n\u001b[1;32m   2446\u001b[0m         \u001b[0mindexer\u001b[0m \u001b[0;34m=\u001b[0m \u001b[0mself\u001b[0m\u001b[0;34m.\u001b[0m\u001b[0mget_indexer\u001b[0m\u001b[0;34m(\u001b[0m\u001b[0;34m[\u001b[0m\u001b[0mkey\u001b[0m\u001b[0;34m]\u001b[0m\u001b[0;34m,\u001b[0m \u001b[0mmethod\u001b[0m\u001b[0;34m=\u001b[0m\u001b[0mmethod\u001b[0m\u001b[0;34m,\u001b[0m \u001b[0mtolerance\u001b[0m\u001b[0;34m=\u001b[0m\u001b[0mtolerance\u001b[0m\u001b[0;34m)\u001b[0m\u001b[0;34m\u001b[0m\u001b[0m\n",
      "\u001b[0;32mpandas/_libs/index.pyx\u001b[0m in \u001b[0;36mpandas._libs.index.IndexEngine.get_loc (pandas/_libs/index.c:5280)\u001b[0;34m()\u001b[0m\n",
      "\u001b[0;32mpandas/_libs/index.pyx\u001b[0m in \u001b[0;36mpandas._libs.index.IndexEngine.get_loc (pandas/_libs/index.c:5126)\u001b[0;34m()\u001b[0m\n",
      "\u001b[0;32mpandas/_libs/hashtable_class_helper.pxi\u001b[0m in \u001b[0;36mpandas._libs.hashtable.PyObjectHashTable.get_item (pandas/_libs/hashtable.c:20523)\u001b[0;34m()\u001b[0m\n",
      "\u001b[0;32mpandas/_libs/hashtable_class_helper.pxi\u001b[0m in \u001b[0;36mpandas._libs.hashtable.PyObjectHashTable.get_item (pandas/_libs/hashtable.c:20477)\u001b[0;34m()\u001b[0m\n",
      "\u001b[0;31mKeyError\u001b[0m: 'HOUR'"
     ]
    },
    {
     "data": {
      "text/plain": [
       "<matplotlib.figure.Figure at 0x2aaaea0e1c18>"
      ]
     },
     "metadata": {},
     "output_type": "display_data"
    }
   ],
   "source": [
    "plt.figure(figsize = (10,6))\n",
    "bins = np.linspace(0,12,13)\n",
    "these_hours = Meta[Meta['HOUR'] < 500]['HOUR']\n",
    "dark_hours = Dark[Dark['HOUR'] < 500]['HOUR']\n",
    "ret = plt.hist(these_hours,bins=bins,edgecolor='black',alpha=0.7,label='_nolegend_')\n",
    "ret = plt.hist(dark_hours,bins=bins,color='balck',alpha=0.5,edgecolor='black',label='Dark')\n",
    "#ret = plt.hist(Dark['HOUR'],bins=12,color='darkorange',edgecolor='black',label = 'Dark')\n",
    "#months = ['','JAN','FEB','MAR','APR','MAY','JUN','JUL','AUG','SEP','OCT','NOV','DEC']\n",
    "#plt.xticks(np.linspace(0,12,13),months)\n",
    "plt.xlim(1,12)\n",
    "plt.xlabel(\"Time of Observation (hours after sunset)\")\n",
    "plt.ylabel ('# of Sky Spectra')\n",
    "plt.legend()"
   ]
  },
  {
   "cell_type": "code",
   "execution_count": 36,
   "metadata": {},
   "outputs": [
    {
     "data": {
      "text/plain": [
       "<matplotlib.legend.Legend at 0x2aaae0ca3470>"
      ]
     },
     "execution_count": 36,
     "metadata": {},
     "output_type": "execute_result"
    },
    {
     "data": {
      "image/png": "[encoded data removed]",
      "text/plain": [
       "<matplotlib.figure.Figure at 0x2aaae09081d0>"
      ]
     },
     "metadata": {},
     "output_type": "display_data"
    }
   ],
   "source": [
    "fig, (ax1, ax2) = plt.subplots(1,2,figsize=(15,6),sharey = True)\n",
    "MF_seeing = Meta[Meta['SEEING50']>0]\n",
    "bins = np.linspace(min(MF_seeing['SEEING50']),max(MF_seeing['SEEING50']),50)\n",
    "bins1 = np.linspace(min(MF_seeing['AIRMASS']),max(MF_seeing['AIRMASS']),30)\n",
    "ax1.hist(MF_seeing['SEEING50'],bins=bins, color = 'darkgrey',label='_nolegend_') #\"Mean: %.2f\" % np.mean(MF_seeing['SEEING50']))\n",
    "ax1.hist(Dark['SEEING50'],bins=bins, color = 'grey',label = 'Dark') #\"Mean: %.2f\" % np.mean(MF_seeing['SEEING50']))\n",
    "ax2.hist(MF_seeing['AIRMASS'],bins=bins1,color = 'yellow',label='_nolegend_')#\"Mean: %.2f\" % np.mean(MF_mean['AIRMASS']))\n",
    "ax2.hist(Dark['AIRMASS'],bins=bins1,color = 'goldenrod',label = 'Dark')#\"Mean: %.2f\" % np.mean(MF_mean['AIRMASS']))\n",
    "ax1.set_xlabel(\"Seeing50 (Arcsec)\")\n",
    "ax2.set_xlabel( \"Airmass\")\n",
    "ax1.set_ylabel(\"No. Sky Fibers\")\n",
    "ax1.legend()\n",
    "ax2.legend()\n",
    "ax1.set_xlim(1, 3.2)\n",
    "ax2.set_xlim(1,1.8)\n",
    "ax1.legend()\n",
    "ax2.legend()"
   ]
  },
  {
   "cell_type": "code",
   "execution_count": 76,
   "metadata": {},
   "outputs": [
    {
     "data": {
      "text/plain": [
       "(array([  1.08532000e+05,   0.00000000e+00,   1.06430900e+06,\n",
       "          9.99866000e+05,   2.42256000e+05,   3.76340000e+04,\n",
       "          6.56000000e+02,   0.00000000e+00,   0.00000000e+00,\n",
       "          3.10000000e+02]),\n",
       " array([ 0.     ,  0.49326,  0.98652,  1.47978,  1.97304,  2.4663 ,\n",
       "         2.95956,  3.45282,  3.94608,  4.43934,  4.9326 ]),\n",
       " <a list of 10 Patch objects>)"
      ]
     },
     "execution_count": 76,
     "metadata": {},
     "output_type": "execute_result"
    },
    {
     "data": {
      "image/png": "[encoded data removed]",
      "text/plain": [
       "<matplotlib.figure.Figure at 0x2aaae0fb3e80>"
      ]
     },
     "metadata": {},
     "output_type": "display_data"
    }
   ],
   "source": [
    "plt.hist(Meta['SEEING50'])"
   ]
  },
  {
   "cell_type": "markdown",
   "metadata": {},
   "source": [
    "## How Many Dark Observations?"
   ]
  },
  {
   "cell_type": "code",
   "execution_count": 54,
   "metadata": {},
   "outputs": [
    {
     "data": {
      "text/plain": [
       "1561"
      ]
     },
     "execution_count": 54,
     "metadata": {},
     "output_type": "execute_result"
    }
   ],
   "source": [
    "len(np.unique(Dark.PLATE))"
   ]
  },
  {
   "cell_type": "code",
   "execution_count": 55,
   "metadata": {},
   "outputs": [
    {
     "data": {
      "text/plain": [
       "7114"
      ]
     },
     "execution_count": 55,
     "metadata": {},
     "output_type": "execute_result"
    }
   ],
   "source": [
    "len(np.unique(Dark.IMG))"
   ]
  },
  {
   "cell_type": "code",
   "execution_count": 56,
   "metadata": {},
   "outputs": [
    {
     "data": {
      "text/plain": [
       "659601.0"
      ]
     },
     "execution_count": 56,
     "metadata": {},
     "output_type": "execute_result"
    }
   ],
   "source": [
    "len(Dark)/2."
   ]
  },
  {
   "cell_type": "code",
   "execution_count": 19,
   "metadata": {},
   "outputs": [],
   "source": [
    "big_files = [3647, 6782, 3615, 6781, 7339, 7260, 7262, 5745, 4052, 5705]"
   ]
  },
  {
   "cell_type": "code",
   "execution_count": 20,
   "metadata": {},
   "outputs": [
    {
     "name": "stdout",
     "output_type": "stream",
     "text": [
      "4052\n",
      "5745\n",
      "7339\n"
     ]
    }
   ],
   "source": [
    "for plate in np.unique(Dark.PLATE):\n",
    "    if plate in big_files:\n",
    "        print(plate)"
   ]
  },
  {
   "cell_type": "code",
   "execution_count": 57,
   "metadata": {},
   "outputs": [],
   "source": [
    "Dark.to_csv('dark_meta_all.csv',index=False)"
   ]
  },
  {
   "cell_type": "markdown",
   "metadata": {},
   "source": [
    "## Make Mean Meta File for each camera"
   ]
  },
  {
   "cell_type": "code",
   "execution_count": 40,
   "metadata": {},
   "outputs": [],
   "source": [
    "Dark[['PLATE','IMG']].to_csv('dark_images.csv',index=False)"
   ]
  },
  {
   "cell_type": "code",
   "execution_count": 212,
   "metadata": {},
   "outputs": [
    {
     "data": {
      "text/html": [
       "<div>\n",
       "<style>\n",
       "    .dataframe thead tr:only-child th {\n",
       "        text-align: right;\n",
       "    }\n",
       "\n",
       "    .dataframe thead th {\n",
       "        text-align: left;\n",
       "    }\n",
       "\n",
       "    .dataframe tbody tr th {\n",
       "        vertical-align: top;\n",
       "    }\n",
       "</style>\n",
       "<table border=\"1\" class=\"dataframe\">\n",
       "  <thead>\n",
       "    <tr style=\"text-align: right;\">\n",
       "      <th></th>\n",
       "      <th>PLATE</th>\n",
       "      <th>SPECNO</th>\n",
       "      <th>IMG</th>\n",
       "      <th>FIB</th>\n",
       "      <th>XFOCAL</th>\n",
       "      <th>YFOCAL</th>\n",
       "      <th>FIBER_RA</th>\n",
       "      <th>FIBER_DEC</th>\n",
       "      <th>OBJTYPE</th>\n",
       "      <th>MJD</th>\n",
       "      <th>TAI-BEG</th>\n",
       "      <th>TAI-END</th>\n",
       "      <th>RA</th>\n",
       "      <th>DEC</th>\n",
       "      <th>CAMERAS</th>\n",
       "      <th>AIRMASS</th>\n",
       "      <th>ALT</th>\n",
       "      <th>AZ</th>\n",
       "      <th>EXPTIME</th>\n",
       "      <th>SEEING20</th>\n",
       "      <th>SEEING50</th>\n",
       "      <th>SEEING80</th>\n",
       "      <th>RMSOFF20</th>\n",
       "      <th>RMSOFF50</th>\n",
       "      <th>RMSOFF80</th>\n",
       "      <th>DATE-OBS</th>\n",
       "      <th>REDDEN01</th>\n",
       "      <th>REDDEN02</th>\n",
       "      <th>REDDEN03</th>\n",
       "      <th>REDDEN04</th>\n",
       "      <th>REDDEN05</th>\n",
       "      <th>QUALITY</th>\n",
       "      <th>DUSTC</th>\n",
       "      <th>DUSTD</th>\n",
       "      <th>AIRTEMP</th>\n",
       "      <th>DEWPOINT</th>\n",
       "      <th>DUSTA</th>\n",
       "      <th>DUSTB</th>\n",
       "      <th>GUSTD</th>\n",
       "      <th>GUSTS</th>\n",
       "      <th>HUMIDITY</th>\n",
       "      <th>PRESSURE</th>\n",
       "      <th>WINDD</th>\n",
       "      <th>WINDS</th>\n",
       "      <th>OBS_ZENITH</th>\n",
       "      <th>ECL_LAT</th>\n",
       "      <th>ECL_LON</th>\n",
       "      <th>GAL_LAT</th>\n",
       "      <th>GAL_LON</th>\n",
       "      <th>ZODI</th>\n",
       "      <th>ISL</th>\n",
       "      <th>MOOND</th>\n",
       "      <th>MOON_SEP</th>\n",
       "      <th>MOON_ALT</th>\n",
       "      <th>MOON_AZ</th>\n",
       "      <th>MOON_ZENITH</th>\n",
       "      <th>MOON_PHASE</th>\n",
       "      <th>SUN_SEP</th>\n",
       "      <th>SUN_ALT</th>\n",
       "      <th>SUN_AZ</th>\n",
       "      <th>SUN_MOON_SEP</th>\n",
       "      <th>MONTH</th>\n",
       "      <th>PHOTO</th>\n",
       "      <th>SOLARFLUX</th>\n",
       "      <th>HOUR</th>\n",
       "      <th>SUN_RISE</th>\n",
       "      <th>SUN_SET</th>\n",
       "      <th>MONTH_FRAC</th>\n",
       "      <th>JAN</th>\n",
       "      <th>FEB</th>\n",
       "      <th>MAR</th>\n",
       "      <th>APR</th>\n",
       "      <th>MAY</th>\n",
       "      <th>JUN</th>\n",
       "      <th>JUL</th>\n",
       "      <th>AUG</th>\n",
       "      <th>SEP</th>\n",
       "      <th>OCT</th>\n",
       "      <th>NOV</th>\n",
       "      <th>HOUR_FRAC</th>\n",
       "      <th>H1</th>\n",
       "      <th>H2</th>\n",
       "      <th>H3</th>\n",
       "      <th>H4</th>\n",
       "      <th>H5</th>\n",
       "      <th>H6</th>\n",
       "    </tr>\n",
       "  </thead>\n",
       "  <tbody>\n",
       "    <tr>\n",
       "      <th>0</th>\n",
       "      <td>5375</td>\n",
       "      <td>0</td>\n",
       "      <td>139856</td>\n",
       "      <td>6</td>\n",
       "      <td>292.29485</td>\n",
       "      <td>-66.910493</td>\n",
       "      <td>175.22116</td>\n",
       "      <td>9.441183</td>\n",
       "      <td>SKY</td>\n",
       "      <td>55973</td>\n",
       "      <td>4.836097e+09</td>\n",
       "      <td>4.836098e+09</td>\n",
       "      <td>173.863127</td>\n",
       "      <td>0</td>\n",
       "      <td>b1</td>\n",
       "      <td>1.0929</td>\n",
       "      <td>65.574</td>\n",
       "      <td>21.058</td>\n",
       "      <td>900.86</td>\n",
       "      <td>1.4781</td>\n",
       "      <td>1.5707</td>\n",
       "      <td>1.6627</td>\n",
       "      <td>0.010105</td>\n",
       "      <td>0.01673</td>\n",
       "      <td>0.02617</td>\n",
       "      <td>2012-02-16T08:22:16</td>\n",
       "      <td>0.1849</td>\n",
       "      <td>0.1361</td>\n",
       "      <td>0.0987</td>\n",
       "      <td>0.0748</td>\n",
       "      <td>0.0531</td>\n",
       "      <td>excellent</td>\n",
       "      <td>-1.0</td>\n",
       "      <td>-1.0</td>\n",
       "      <td>-2.7</td>\n",
       "      <td>-9.5</td>\n",
       "      <td>17998.0</td>\n",
       "      <td>1341.0</td>\n",
       "      <td>188.6</td>\n",
       "      <td>14.7</td>\n",
       "      <td>55.6</td>\n",
       "      <td>21.396</td>\n",
       "      <td>185.6</td>\n",
       "      <td>13.0</td>\n",
       "      <td>24.426</td>\n",
       "      <td>6.515708</td>\n",
       "      <td>170.49452</td>\n",
       "      <td>65.038698</td>\n",
       "      <td>253.450954</td>\n",
       "      <td>4.800391</td>\n",
       "      <td>1.453083</td>\n",
       "      <td>375852.554614</td>\n",
       "      <td>88.413173</td>\n",
       "      <td>-12.84423</td>\n",
       "      <td>108.998443</td>\n",
       "      <td>102.84423</td>\n",
       "      <td>22.744556</td>\n",
       "      <td>155.554211</td>\n",
       "      <td>-63.890484</td>\n",
       "      <td>43.160219</td>\n",
       "      <td>67.960722</td>\n",
       "      <td>2</td>\n",
       "      <td>0.0</td>\n",
       "      <td>104.408165</td>\n",
       "      <td>7.632262</td>\n",
       "      <td>2012-02-16 13:43:02.852025</td>\n",
       "      <td>2012-02-16 00:51:16.288370</td>\n",
       "      <td>2.533333</td>\n",
       "      <td>0</td>\n",
       "      <td>1</td>\n",
       "      <td>0</td>\n",
       "      <td>0</td>\n",
       "      <td>0</td>\n",
       "      <td>0</td>\n",
       "      <td>0</td>\n",
       "      <td>0</td>\n",
       "      <td>0</td>\n",
       "      <td>0</td>\n",
       "      <td>0</td>\n",
       "      <td>0.5933530683641632</td>\n",
       "      <td>0</td>\n",
       "      <td>0</td>\n",
       "      <td>0</td>\n",
       "      <td>1</td>\n",
       "      <td>0</td>\n",
       "      <td>0</td>\n",
       "    </tr>\n",
       "    <tr>\n",
       "      <th>1</th>\n",
       "      <td>5375</td>\n",
       "      <td>1</td>\n",
       "      <td>139856</td>\n",
       "      <td>24</td>\n",
       "      <td>246.75249</td>\n",
       "      <td>-125.213990</td>\n",
       "      <td>175.00897</td>\n",
       "      <td>9.174277</td>\n",
       "      <td>SKY</td>\n",
       "      <td>55973</td>\n",
       "      <td>4.836097e+09</td>\n",
       "      <td>4.836098e+09</td>\n",
       "      <td>173.863127</td>\n",
       "      <td>0</td>\n",
       "      <td>b1</td>\n",
       "      <td>1.0929</td>\n",
       "      <td>65.574</td>\n",
       "      <td>21.058</td>\n",
       "      <td>900.86</td>\n",
       "      <td>1.4781</td>\n",
       "      <td>1.5707</td>\n",
       "      <td>1.6627</td>\n",
       "      <td>0.010105</td>\n",
       "      <td>0.01673</td>\n",
       "      <td>0.02617</td>\n",
       "      <td>2012-02-16T08:22:16</td>\n",
       "      <td>0.1849</td>\n",
       "      <td>0.1361</td>\n",
       "      <td>0.0987</td>\n",
       "      <td>0.0748</td>\n",
       "      <td>0.0531</td>\n",
       "      <td>excellent</td>\n",
       "      <td>-1.0</td>\n",
       "      <td>-1.0</td>\n",
       "      <td>-2.7</td>\n",
       "      <td>-9.5</td>\n",
       "      <td>17998.0</td>\n",
       "      <td>1341.0</td>\n",
       "      <td>188.6</td>\n",
       "      <td>14.7</td>\n",
       "      <td>55.6</td>\n",
       "      <td>21.396</td>\n",
       "      <td>185.6</td>\n",
       "      <td>13.0</td>\n",
       "      <td>24.426</td>\n",
       "      <td>6.515708</td>\n",
       "      <td>170.49452</td>\n",
       "      <td>65.038698</td>\n",
       "      <td>253.450954</td>\n",
       "      <td>4.800391</td>\n",
       "      <td>1.453083</td>\n",
       "      <td>375852.554614</td>\n",
       "      <td>88.413173</td>\n",
       "      <td>-12.84423</td>\n",
       "      <td>108.998443</td>\n",
       "      <td>102.84423</td>\n",
       "      <td>22.744556</td>\n",
       "      <td>155.554211</td>\n",
       "      <td>-63.890484</td>\n",
       "      <td>43.160219</td>\n",
       "      <td>67.960722</td>\n",
       "      <td>2</td>\n",
       "      <td>0.0</td>\n",
       "      <td>104.408165</td>\n",
       "      <td>7.632262</td>\n",
       "      <td>2012-02-16 13:43:02.852025</td>\n",
       "      <td>2012-02-16 00:51:16.288370</td>\n",
       "      <td>2.533333</td>\n",
       "      <td>0</td>\n",
       "      <td>1</td>\n",
       "      <td>0</td>\n",
       "      <td>0</td>\n",
       "      <td>0</td>\n",
       "      <td>0</td>\n",
       "      <td>0</td>\n",
       "      <td>0</td>\n",
       "      <td>0</td>\n",
       "      <td>0</td>\n",
       "      <td>0</td>\n",
       "      <td>0.5933530683641632</td>\n",
       "      <td>0</td>\n",
       "      <td>0</td>\n",
       "      <td>0</td>\n",
       "      <td>1</td>\n",
       "      <td>0</td>\n",
       "      <td>0</td>\n",
       "    </tr>\n",
       "    <tr>\n",
       "      <th>2</th>\n",
       "      <td>5375</td>\n",
       "      <td>2</td>\n",
       "      <td>139856</td>\n",
       "      <td>30</td>\n",
       "      <td>244.41818</td>\n",
       "      <td>-86.143672</td>\n",
       "      <td>174.99895</td>\n",
       "      <td>9.353515</td>\n",
       "      <td>SKY</td>\n",
       "      <td>55973</td>\n",
       "      <td>4.836097e+09</td>\n",
       "      <td>4.836098e+09</td>\n",
       "      <td>173.863127</td>\n",
       "      <td>0</td>\n",
       "      <td>b1</td>\n",
       "      <td>1.0929</td>\n",
       "      <td>65.574</td>\n",
       "      <td>21.058</td>\n",
       "      <td>900.86</td>\n",
       "      <td>1.4781</td>\n",
       "      <td>1.5707</td>\n",
       "      <td>1.6627</td>\n",
       "      <td>0.010105</td>\n",
       "      <td>0.01673</td>\n",
       "      <td>0.02617</td>\n",
       "      <td>2012-02-16T08:22:16</td>\n",
       "      <td>0.1849</td>\n",
       "      <td>0.1361</td>\n",
       "      <td>0.0987</td>\n",
       "      <td>0.0748</td>\n",
       "      <td>0.0531</td>\n",
       "      <td>excellent</td>\n",
       "      <td>-1.0</td>\n",
       "      <td>-1.0</td>\n",
       "      <td>-2.7</td>\n",
       "      <td>-9.5</td>\n",
       "      <td>17998.0</td>\n",
       "      <td>1341.0</td>\n",
       "      <td>188.6</td>\n",
       "      <td>14.7</td>\n",
       "      <td>55.6</td>\n",
       "      <td>21.396</td>\n",
       "      <td>185.6</td>\n",
       "      <td>13.0</td>\n",
       "      <td>24.426</td>\n",
       "      <td>6.515708</td>\n",
       "      <td>170.49452</td>\n",
       "      <td>65.038698</td>\n",
       "      <td>253.450954</td>\n",
       "      <td>4.800391</td>\n",
       "      <td>1.453083</td>\n",
       "      <td>375852.554614</td>\n",
       "      <td>88.413173</td>\n",
       "      <td>-12.84423</td>\n",
       "      <td>108.998443</td>\n",
       "      <td>102.84423</td>\n",
       "      <td>22.744556</td>\n",
       "      <td>155.554211</td>\n",
       "      <td>-63.890484</td>\n",
       "      <td>43.160219</td>\n",
       "      <td>67.960722</td>\n",
       "      <td>2</td>\n",
       "      <td>0.0</td>\n",
       "      <td>104.408165</td>\n",
       "      <td>7.632262</td>\n",
       "      <td>2012-02-16 13:43:02.852025</td>\n",
       "      <td>2012-02-16 00:51:16.288370</td>\n",
       "      <td>2.533333</td>\n",
       "      <td>0</td>\n",
       "      <td>1</td>\n",
       "      <td>0</td>\n",
       "      <td>0</td>\n",
       "      <td>0</td>\n",
       "      <td>0</td>\n",
       "      <td>0</td>\n",
       "      <td>0</td>\n",
       "      <td>0</td>\n",
       "      <td>0</td>\n",
       "      <td>0</td>\n",
       "      <td>0.5933530683641632</td>\n",
       "      <td>0</td>\n",
       "      <td>0</td>\n",
       "      <td>0</td>\n",
       "      <td>1</td>\n",
       "      <td>0</td>\n",
       "      <td>0</td>\n",
       "    </tr>\n",
       "    <tr>\n",
       "      <th>3</th>\n",
       "      <td>5375</td>\n",
       "      <td>3</td>\n",
       "      <td>139856</td>\n",
       "      <td>52</td>\n",
       "      <td>226.54699</td>\n",
       "      <td>-199.449980</td>\n",
       "      <td>174.91355</td>\n",
       "      <td>8.834334</td>\n",
       "      <td>SKY</td>\n",
       "      <td>55973</td>\n",
       "      <td>4.836097e+09</td>\n",
       "      <td>4.836098e+09</td>\n",
       "      <td>173.863127</td>\n",
       "      <td>0</td>\n",
       "      <td>b1</td>\n",
       "      <td>1.0929</td>\n",
       "      <td>65.574</td>\n",
       "      <td>21.058</td>\n",
       "      <td>900.86</td>\n",
       "      <td>1.4781</td>\n",
       "      <td>1.5707</td>\n",
       "      <td>1.6627</td>\n",
       "      <td>0.010105</td>\n",
       "      <td>0.01673</td>\n",
       "      <td>0.02617</td>\n",
       "      <td>2012-02-16T08:22:16</td>\n",
       "      <td>0.1849</td>\n",
       "      <td>0.1361</td>\n",
       "      <td>0.0987</td>\n",
       "      <td>0.0748</td>\n",
       "      <td>0.0531</td>\n",
       "      <td>excellent</td>\n",
       "      <td>-1.0</td>\n",
       "      <td>-1.0</td>\n",
       "      <td>-2.7</td>\n",
       "      <td>-9.5</td>\n",
       "      <td>17998.0</td>\n",
       "      <td>1341.0</td>\n",
       "      <td>188.6</td>\n",
       "      <td>14.7</td>\n",
       "      <td>55.6</td>\n",
       "      <td>21.396</td>\n",
       "      <td>185.6</td>\n",
       "      <td>13.0</td>\n",
       "      <td>24.426</td>\n",
       "      <td>6.515708</td>\n",
       "      <td>170.49452</td>\n",
       "      <td>65.038698</td>\n",
       "      <td>253.450954</td>\n",
       "      <td>4.800391</td>\n",
       "      <td>1.453083</td>\n",
       "      <td>375852.554614</td>\n",
       "      <td>88.413173</td>\n",
       "      <td>-12.84423</td>\n",
       "      <td>108.998443</td>\n",
       "      <td>102.84423</td>\n",
       "      <td>22.744556</td>\n",
       "      <td>155.554211</td>\n",
       "      <td>-63.890484</td>\n",
       "      <td>43.160219</td>\n",
       "      <td>67.960722</td>\n",
       "      <td>2</td>\n",
       "      <td>0.0</td>\n",
       "      <td>104.408165</td>\n",
       "      <td>7.632262</td>\n",
       "      <td>2012-02-16 13:43:02.852025</td>\n",
       "      <td>2012-02-16 00:51:16.288370</td>\n",
       "      <td>2.533333</td>\n",
       "      <td>0</td>\n",
       "      <td>1</td>\n",
       "      <td>0</td>\n",
       "      <td>0</td>\n",
       "      <td>0</td>\n",
       "      <td>0</td>\n",
       "      <td>0</td>\n",
       "      <td>0</td>\n",
       "      <td>0</td>\n",
       "      <td>0</td>\n",
       "      <td>0</td>\n",
       "      <td>0.5933530683641632</td>\n",
       "      <td>0</td>\n",
       "      <td>0</td>\n",
       "      <td>0</td>\n",
       "      <td>1</td>\n",
       "      <td>0</td>\n",
       "      <td>0</td>\n",
       "    </tr>\n",
       "    <tr>\n",
       "      <th>4</th>\n",
       "      <td>5375</td>\n",
       "      <td>4</td>\n",
       "      <td>139856</td>\n",
       "      <td>58</td>\n",
       "      <td>222.37757</td>\n",
       "      <td>-167.478040</td>\n",
       "      <td>174.89507</td>\n",
       "      <td>8.980705</td>\n",
       "      <td>SKY</td>\n",
       "      <td>55973</td>\n",
       "      <td>4.836097e+09</td>\n",
       "      <td>4.836098e+09</td>\n",
       "      <td>173.863127</td>\n",
       "      <td>0</td>\n",
       "      <td>b1</td>\n",
       "      <td>1.0929</td>\n",
       "      <td>65.574</td>\n",
       "      <td>21.058</td>\n",
       "      <td>900.86</td>\n",
       "      <td>1.4781</td>\n",
       "      <td>1.5707</td>\n",
       "      <td>1.6627</td>\n",
       "      <td>0.010105</td>\n",
       "      <td>0.01673</td>\n",
       "      <td>0.02617</td>\n",
       "      <td>2012-02-16T08:22:16</td>\n",
       "      <td>0.1849</td>\n",
       "      <td>0.1361</td>\n",
       "      <td>0.0987</td>\n",
       "      <td>0.0748</td>\n",
       "      <td>0.0531</td>\n",
       "      <td>excellent</td>\n",
       "      <td>-1.0</td>\n",
       "      <td>-1.0</td>\n",
       "      <td>-2.7</td>\n",
       "      <td>-9.5</td>\n",
       "      <td>17998.0</td>\n",
       "      <td>1341.0</td>\n",
       "      <td>188.6</td>\n",
       "      <td>14.7</td>\n",
       "      <td>55.6</td>\n",
       "      <td>21.396</td>\n",
       "      <td>185.6</td>\n",
       "      <td>13.0</td>\n",
       "      <td>24.426</td>\n",
       "      <td>6.515708</td>\n",
       "      <td>170.49452</td>\n",
       "      <td>65.038698</td>\n",
       "      <td>253.450954</td>\n",
       "      <td>4.800391</td>\n",
       "      <td>1.453083</td>\n",
       "      <td>375852.554614</td>\n",
       "      <td>88.413173</td>\n",
       "      <td>-12.84423</td>\n",
       "      <td>108.998443</td>\n",
       "      <td>102.84423</td>\n",
       "      <td>22.744556</td>\n",
       "      <td>155.554211</td>\n",
       "      <td>-63.890484</td>\n",
       "      <td>43.160219</td>\n",
       "      <td>67.960722</td>\n",
       "      <td>2</td>\n",
       "      <td>0.0</td>\n",
       "      <td>104.408165</td>\n",
       "      <td>7.632262</td>\n",
       "      <td>2012-02-16 13:43:02.852025</td>\n",
       "      <td>2012-02-16 00:51:16.288370</td>\n",
       "      <td>2.533333</td>\n",
       "      <td>0</td>\n",
       "      <td>1</td>\n",
       "      <td>0</td>\n",
       "      <td>0</td>\n",
       "      <td>0</td>\n",
       "      <td>0</td>\n",
       "      <td>0</td>\n",
       "      <td>0</td>\n",
       "      <td>0</td>\n",
       "      <td>0</td>\n",
       "      <td>0</td>\n",
       "      <td>0.5933530683641632</td>\n",
       "      <td>0</td>\n",
       "      <td>0</td>\n",
       "      <td>0</td>\n",
       "      <td>1</td>\n",
       "      <td>0</td>\n",
       "      <td>0</td>\n",
       "    </tr>\n",
       "  </tbody>\n",
       "</table>\n",
       "</div>"
      ],
      "text/plain": [
       "   PLATE  SPECNO     IMG  FIB     XFOCAL      YFOCAL   FIBER_RA  FIBER_DEC  \\\n",
       "0   5375       0  139856    6  292.29485  -66.910493  175.22116   9.441183   \n",
       "1   5375       1  139856   24  246.75249 -125.213990  175.00897   9.174277   \n",
       "2   5375       2  139856   30  244.41818  -86.143672  174.99895   9.353515   \n",
       "3   5375       3  139856   52  226.54699 -199.449980  174.91355   8.834334   \n",
       "4   5375       4  139856   58  222.37757 -167.478040  174.89507   8.980705   \n",
       "\n",
       "  OBJTYPE    MJD       TAI-BEG       TAI-END          RA  DEC CAMERAS  \\\n",
       "0     SKY  55973  4.836097e+09  4.836098e+09  173.863127    0      b1   \n",
       "1     SKY  55973  4.836097e+09  4.836098e+09  173.863127    0      b1   \n",
       "2     SKY  55973  4.836097e+09  4.836098e+09  173.863127    0      b1   \n",
       "3     SKY  55973  4.836097e+09  4.836098e+09  173.863127    0      b1   \n",
       "4     SKY  55973  4.836097e+09  4.836098e+09  173.863127    0      b1   \n",
       "\n",
       "   AIRMASS     ALT      AZ  EXPTIME  SEEING20  SEEING50  SEEING80  RMSOFF20  \\\n",
       "0   1.0929  65.574  21.058   900.86    1.4781    1.5707    1.6627  0.010105   \n",
       "1   1.0929  65.574  21.058   900.86    1.4781    1.5707    1.6627  0.010105   \n",
       "2   1.0929  65.574  21.058   900.86    1.4781    1.5707    1.6627  0.010105   \n",
       "3   1.0929  65.574  21.058   900.86    1.4781    1.5707    1.6627  0.010105   \n",
       "4   1.0929  65.574  21.058   900.86    1.4781    1.5707    1.6627  0.010105   \n",
       "\n",
       "   RMSOFF50  RMSOFF80             DATE-OBS  REDDEN01  REDDEN02  REDDEN03  \\\n",
       "0   0.01673   0.02617  2012-02-16T08:22:16    0.1849    0.1361    0.0987   \n",
       "1   0.01673   0.02617  2012-02-16T08:22:16    0.1849    0.1361    0.0987   \n",
       "2   0.01673   0.02617  2012-02-16T08:22:16    0.1849    0.1361    0.0987   \n",
       "3   0.01673   0.02617  2012-02-16T08:22:16    0.1849    0.1361    0.0987   \n",
       "4   0.01673   0.02617  2012-02-16T08:22:16    0.1849    0.1361    0.0987   \n",
       "\n",
       "   REDDEN04  REDDEN05    QUALITY  DUSTC  DUSTD  AIRTEMP  DEWPOINT    DUSTA  \\\n",
       "0    0.0748    0.0531  excellent   -1.0   -1.0     -2.7      -9.5  17998.0   \n",
       "1    0.0748    0.0531  excellent   -1.0   -1.0     -2.7      -9.5  17998.0   \n",
       "2    0.0748    0.0531  excellent   -1.0   -1.0     -2.7      -9.5  17998.0   \n",
       "3    0.0748    0.0531  excellent   -1.0   -1.0     -2.7      -9.5  17998.0   \n",
       "4    0.0748    0.0531  excellent   -1.0   -1.0     -2.7      -9.5  17998.0   \n",
       "\n",
       "    DUSTB  GUSTD  GUSTS  HUMIDITY  PRESSURE  WINDD  WINDS  OBS_ZENITH  \\\n",
       "0  1341.0  188.6   14.7      55.6    21.396  185.6   13.0      24.426   \n",
       "1  1341.0  188.6   14.7      55.6    21.396  185.6   13.0      24.426   \n",
       "2  1341.0  188.6   14.7      55.6    21.396  185.6   13.0      24.426   \n",
       "3  1341.0  188.6   14.7      55.6    21.396  185.6   13.0      24.426   \n",
       "4  1341.0  188.6   14.7      55.6    21.396  185.6   13.0      24.426   \n",
       "\n",
       "    ECL_LAT    ECL_LON    GAL_LAT     GAL_LON      ZODI       ISL  \\\n",
       "0  6.515708  170.49452  65.038698  253.450954  4.800391  1.453083   \n",
       "1  6.515708  170.49452  65.038698  253.450954  4.800391  1.453083   \n",
       "2  6.515708  170.49452  65.038698  253.450954  4.800391  1.453083   \n",
       "3  6.515708  170.49452  65.038698  253.450954  4.800391  1.453083   \n",
       "4  6.515708  170.49452  65.038698  253.450954  4.800391  1.453083   \n",
       "\n",
       "           MOOND   MOON_SEP  MOON_ALT     MOON_AZ  MOON_ZENITH  MOON_PHASE  \\\n",
       "0  375852.554614  88.413173 -12.84423  108.998443    102.84423   22.744556   \n",
       "1  375852.554614  88.413173 -12.84423  108.998443    102.84423   22.744556   \n",
       "2  375852.554614  88.413173 -12.84423  108.998443    102.84423   22.744556   \n",
       "3  375852.554614  88.413173 -12.84423  108.998443    102.84423   22.744556   \n",
       "4  375852.554614  88.413173 -12.84423  108.998443    102.84423   22.744556   \n",
       "\n",
       "      SUN_SEP    SUN_ALT     SUN_AZ  SUN_MOON_SEP  MONTH  PHOTO   SOLARFLUX  \\\n",
       "0  155.554211 -63.890484  43.160219     67.960722      2    0.0  104.408165   \n",
       "1  155.554211 -63.890484  43.160219     67.960722      2    0.0  104.408165   \n",
       "2  155.554211 -63.890484  43.160219     67.960722      2    0.0  104.408165   \n",
       "3  155.554211 -63.890484  43.160219     67.960722      2    0.0  104.408165   \n",
       "4  155.554211 -63.890484  43.160219     67.960722      2    0.0  104.408165   \n",
       "\n",
       "       HOUR                    SUN_RISE                     SUN_SET  \\\n",
       "0  7.632262  2012-02-16 13:43:02.852025  2012-02-16 00:51:16.288370   \n",
       "1  7.632262  2012-02-16 13:43:02.852025  2012-02-16 00:51:16.288370   \n",
       "2  7.632262  2012-02-16 13:43:02.852025  2012-02-16 00:51:16.288370   \n",
       "3  7.632262  2012-02-16 13:43:02.852025  2012-02-16 00:51:16.288370   \n",
       "4  7.632262  2012-02-16 13:43:02.852025  2012-02-16 00:51:16.288370   \n",
       "\n",
       "   MONTH_FRAC  JAN  FEB  MAR  APR  MAY  JUN  JUL  AUG  SEP  OCT  NOV  \\\n",
       "0    2.533333    0    1    0    0    0    0    0    0    0    0    0   \n",
       "1    2.533333    0    1    0    0    0    0    0    0    0    0    0   \n",
       "2    2.533333    0    1    0    0    0    0    0    0    0    0    0   \n",
       "3    2.533333    0    1    0    0    0    0    0    0    0    0    0   \n",
       "4    2.533333    0    1    0    0    0    0    0    0    0    0    0   \n",
       "\n",
       "            HOUR_FRAC  H1  H2  H3  H4  H5  H6  \n",
       "0  0.5933530683641632   0   0   0   1   0   0  \n",
       "1  0.5933530683641632   0   0   0   1   0   0  \n",
       "2  0.5933530683641632   0   0   0   1   0   0  \n",
       "3  0.5933530683641632   0   0   0   1   0   0  \n",
       "4  0.5933530683641632   0   0   0   1   0   0  "
      ]
     },
     "execution_count": 212,
     "metadata": {},
     "output_type": "execute_result"
    }
   ],
   "source": [
    "Dark.head()"
   ]
  },
  {
   "cell_type": "code",
   "execution_count": 213,
   "metadata": {},
   "outputs": [],
   "source": [
    "DD = {}\n",
    "for camera in np.unique(Dark.CAMERAS):\n",
    "    d = Dark[Dark.CAMERAS == camera]\n",
    "    d = d.drop(['SPECNO','FIB', 'XFOCAL', 'YFOCAL', 'FIBER_RA','FIBER_DEC','ISL','SUN_RISE','SUN_SET'],axis=1)\n",
    "    d.drop_duplicates(inplace=True)\n",
    "    DD[camera] = d"
   ]
  },
  {
   "cell_type": "code",
   "execution_count": 214,
   "metadata": {},
   "outputs": [
    {
     "data": {
      "text/plain": [
       "7114"
      ]
     },
     "execution_count": 214,
     "metadata": {},
     "output_type": "execute_result"
    }
   ],
   "source": [
    "len(DD['b1'])"
   ]
  },
  {
   "cell_type": "code",
   "execution_count": 215,
   "metadata": {},
   "outputs": [
    {
     "data": {
      "text/plain": [
       "7114"
      ]
     },
     "execution_count": 215,
     "metadata": {},
     "output_type": "execute_result"
    }
   ],
   "source": [
    "len(np.unique(DD['b1'].IMG))"
   ]
  },
  {
   "cell_type": "code",
   "execution_count": 216,
   "metadata": {},
   "outputs": [],
   "source": [
    "#Redo ISL\n",
    "import pickle\n",
    "isl_data = pickle.load(open(os.getcwd()+'/util/isl_map.pkl','rb'))\n",
    "for cam, df in DD.items():\n",
    "    l_b = np.array(df[['GAL_LON','GAL_LAT']])\n",
    "    df['ISL'] = [isl_data(x[0],x[1])[0] for x in l_b]"
   ]
  },
  {
   "cell_type": "code",
   "execution_count": 218,
   "metadata": {},
   "outputs": [
    {
     "name": "stdout",
     "output_type": "stream",
     "text": [
      "b1 7114\n",
      "b2 7113\n",
      "r1 7114\n",
      "r2 7113\n"
     ]
    }
   ],
   "source": [
    "for cam, df in DD.items():\n",
    "    print(cam, len(df))\n",
    "    df.reset_index(inplace=True)\n",
    "    df.to_csv('dark_meta_%s.csv'%cam, index=False)"
   ]
  },
  {
   "cell_type": "markdown",
   "metadata": {},
   "source": [
    "## Photometric Conditions"
   ]
  },
  {
   "cell_type": "code",
   "execution_count": 55,
   "metadata": {},
   "outputs": [
    {
     "data": {
      "text/html": [
       "<div>\n",
       "<style>\n",
       "    .dataframe thead tr:only-child th {\n",
       "        text-align: right;\n",
       "    }\n",
       "\n",
       "    .dataframe thead th {\n",
       "        text-align: left;\n",
       "    }\n",
       "\n",
       "    .dataframe tbody tr th {\n",
       "        vertical-align: top;\n",
       "    }\n",
       "</style>\n",
       "<table border=\"1\" class=\"dataframe\">\n",
       "  <thead>\n",
       "    <tr style=\"text-align: right;\">\n",
       "      <th></th>\n",
       "      <th>PLATE</th>\n",
       "      <th>SPECNO</th>\n",
       "      <th>IMG</th>\n",
       "      <th>FIB</th>\n",
       "      <th>XFOCAL</th>\n",
       "      <th>YFOCAL</th>\n",
       "      <th>FIBER_RA</th>\n",
       "      <th>FIBER_DEC</th>\n",
       "      <th>OBJTYPE</th>\n",
       "      <th>MJD</th>\n",
       "      <th>...</th>\n",
       "      <th>MOON_AZ</th>\n",
       "      <th>MOON_ZENITH</th>\n",
       "      <th>MOON_PHASE</th>\n",
       "      <th>SUN_SEP</th>\n",
       "      <th>SUN_ALT</th>\n",
       "      <th>SUN_AZ</th>\n",
       "      <th>SUN_MOON_SEP</th>\n",
       "      <th>MONTH</th>\n",
       "      <th>SOLARFLUX</th>\n",
       "      <th>HOUR</th>\n",
       "    </tr>\n",
       "    <tr>\n",
       "      <th>PHOTO</th>\n",
       "      <th></th>\n",
       "      <th></th>\n",
       "      <th></th>\n",
       "      <th></th>\n",
       "      <th></th>\n",
       "      <th></th>\n",
       "      <th></th>\n",
       "      <th></th>\n",
       "      <th></th>\n",
       "      <th></th>\n",
       "      <th></th>\n",
       "      <th></th>\n",
       "      <th></th>\n",
       "      <th></th>\n",
       "      <th></th>\n",
       "      <th></th>\n",
       "      <th></th>\n",
       "      <th></th>\n",
       "      <th></th>\n",
       "      <th></th>\n",
       "      <th></th>\n",
       "    </tr>\n",
       "  </thead>\n",
       "  <tbody>\n",
       "    <tr>\n",
       "      <th>0.0</th>\n",
       "      <td>784574</td>\n",
       "      <td>784574</td>\n",
       "      <td>784574</td>\n",
       "      <td>784574</td>\n",
       "      <td>784574</td>\n",
       "      <td>784574</td>\n",
       "      <td>784574</td>\n",
       "      <td>784574</td>\n",
       "      <td>784574</td>\n",
       "      <td>784574</td>\n",
       "      <td>...</td>\n",
       "      <td>784574</td>\n",
       "      <td>784574</td>\n",
       "      <td>784574</td>\n",
       "      <td>784574</td>\n",
       "      <td>784574</td>\n",
       "      <td>784574</td>\n",
       "      <td>784574</td>\n",
       "      <td>784574</td>\n",
       "      <td>784574</td>\n",
       "      <td>784574</td>\n",
       "    </tr>\n",
       "    <tr>\n",
       "      <th>0.5</th>\n",
       "      <td>20532</td>\n",
       "      <td>20532</td>\n",
       "      <td>20532</td>\n",
       "      <td>20532</td>\n",
       "      <td>20532</td>\n",
       "      <td>20532</td>\n",
       "      <td>20532</td>\n",
       "      <td>20532</td>\n",
       "      <td>20532</td>\n",
       "      <td>20532</td>\n",
       "      <td>...</td>\n",
       "      <td>20532</td>\n",
       "      <td>20532</td>\n",
       "      <td>20532</td>\n",
       "      <td>20532</td>\n",
       "      <td>20532</td>\n",
       "      <td>20532</td>\n",
       "      <td>20532</td>\n",
       "      <td>20532</td>\n",
       "      <td>20532</td>\n",
       "      <td>20532</td>\n",
       "    </tr>\n",
       "    <tr>\n",
       "      <th>1.0</th>\n",
       "      <td>501456</td>\n",
       "      <td>501456</td>\n",
       "      <td>501456</td>\n",
       "      <td>501456</td>\n",
       "      <td>501456</td>\n",
       "      <td>501456</td>\n",
       "      <td>501456</td>\n",
       "      <td>501456</td>\n",
       "      <td>501456</td>\n",
       "      <td>501456</td>\n",
       "      <td>...</td>\n",
       "      <td>501456</td>\n",
       "      <td>501456</td>\n",
       "      <td>501456</td>\n",
       "      <td>501456</td>\n",
       "      <td>501456</td>\n",
       "      <td>501456</td>\n",
       "      <td>501456</td>\n",
       "      <td>501456</td>\n",
       "      <td>501456</td>\n",
       "      <td>501456</td>\n",
       "    </tr>\n",
       "  </tbody>\n",
       "</table>\n",
       "<p>3 rows × 64 columns</p>\n",
       "</div>"
      ],
      "text/plain": [
       "        PLATE  SPECNO     IMG     FIB  XFOCAL  YFOCAL  FIBER_RA  FIBER_DEC  \\\n",
       "PHOTO                                                                        \n",
       "0.0    784574  784574  784574  784574  784574  784574    784574     784574   \n",
       "0.5     20532   20532   20532   20532   20532   20532     20532      20532   \n",
       "1.0    501456  501456  501456  501456  501456  501456    501456     501456   \n",
       "\n",
       "       OBJTYPE     MJD   ...    MOON_AZ  MOON_ZENITH  MOON_PHASE  SUN_SEP  \\\n",
       "PHOTO                    ...                                                \n",
       "0.0     784574  784574   ...     784574       784574      784574   784574   \n",
       "0.5      20532   20532   ...      20532        20532       20532    20532   \n",
       "1.0     501456  501456   ...     501456       501456      501456   501456   \n",
       "\n",
       "       SUN_ALT  SUN_AZ  SUN_MOON_SEP   MONTH  SOLARFLUX    HOUR  \n",
       "PHOTO                                                            \n",
       "0.0     784574  784574        784574  784574     784574  784574  \n",
       "0.5      20532   20532         20532   20532      20532   20532  \n",
       "1.0     501456  501456        501456  501456     501456  501456  \n",
       "\n",
       "[3 rows x 64 columns]"
      ]
     },
     "execution_count": 55,
     "metadata": {},
     "output_type": "execute_result"
    }
   ],
   "source": [
    "Dark.groupby(['PHOTO']).count()"
   ]
  },
  {
   "cell_type": "code",
   "execution_count": 62,
   "metadata": {},
   "outputs": [
    {
     "data": {
      "text/html": [
       "<div>\n",
       "<style>\n",
       "    .dataframe thead tr:only-child th {\n",
       "        text-align: right;\n",
       "    }\n",
       "\n",
       "    .dataframe thead th {\n",
       "        text-align: left;\n",
       "    }\n",
       "\n",
       "    .dataframe tbody tr th {\n",
       "        vertical-align: top;\n",
       "    }\n",
       "</style>\n",
       "<table border=\"1\" class=\"dataframe\">\n",
       "  <thead>\n",
       "    <tr style=\"text-align: right;\">\n",
       "      <th></th>\n",
       "      <th>IMG</th>\n",
       "      <th>PLATE</th>\n",
       "      <th>SPECNO</th>\n",
       "      <th>FIB</th>\n",
       "      <th>XFOCAL</th>\n",
       "      <th>YFOCAL</th>\n",
       "      <th>FIBER_RA</th>\n",
       "      <th>FIBER_DEC</th>\n",
       "      <th>OBJTYPE</th>\n",
       "      <th>MJD</th>\n",
       "      <th>...</th>\n",
       "      <th>MOON_AZ</th>\n",
       "      <th>MOON_ZENITH</th>\n",
       "      <th>MOON_PHASE</th>\n",
       "      <th>SUN_SEP</th>\n",
       "      <th>SUN_ALT</th>\n",
       "      <th>SUN_AZ</th>\n",
       "      <th>SUN_MOON_SEP</th>\n",
       "      <th>MONTH</th>\n",
       "      <th>SOLARFLUX</th>\n",
       "      <th>HOUR</th>\n",
       "    </tr>\n",
       "    <tr>\n",
       "      <th>PHOTO</th>\n",
       "      <th></th>\n",
       "      <th></th>\n",
       "      <th></th>\n",
       "      <th></th>\n",
       "      <th></th>\n",
       "      <th></th>\n",
       "      <th></th>\n",
       "      <th></th>\n",
       "      <th></th>\n",
       "      <th></th>\n",
       "      <th></th>\n",
       "      <th></th>\n",
       "      <th></th>\n",
       "      <th></th>\n",
       "      <th></th>\n",
       "      <th></th>\n",
       "      <th></th>\n",
       "      <th></th>\n",
       "      <th></th>\n",
       "      <th></th>\n",
       "      <th></th>\n",
       "    </tr>\n",
       "  </thead>\n",
       "  <tbody>\n",
       "    <tr>\n",
       "      <th>0.0</th>\n",
       "      <td>4227</td>\n",
       "      <td>4227</td>\n",
       "      <td>4227</td>\n",
       "      <td>4227</td>\n",
       "      <td>4227</td>\n",
       "      <td>4227</td>\n",
       "      <td>4227</td>\n",
       "      <td>4227</td>\n",
       "      <td>4227</td>\n",
       "      <td>4227</td>\n",
       "      <td>...</td>\n",
       "      <td>4227</td>\n",
       "      <td>4227</td>\n",
       "      <td>4227</td>\n",
       "      <td>4227</td>\n",
       "      <td>4227</td>\n",
       "      <td>4227</td>\n",
       "      <td>4227</td>\n",
       "      <td>4227</td>\n",
       "      <td>4227</td>\n",
       "      <td>4227</td>\n",
       "    </tr>\n",
       "    <tr>\n",
       "      <th>0.5</th>\n",
       "      <td>114</td>\n",
       "      <td>114</td>\n",
       "      <td>114</td>\n",
       "      <td>114</td>\n",
       "      <td>114</td>\n",
       "      <td>114</td>\n",
       "      <td>114</td>\n",
       "      <td>114</td>\n",
       "      <td>114</td>\n",
       "      <td>114</td>\n",
       "      <td>...</td>\n",
       "      <td>114</td>\n",
       "      <td>114</td>\n",
       "      <td>114</td>\n",
       "      <td>114</td>\n",
       "      <td>114</td>\n",
       "      <td>114</td>\n",
       "      <td>114</td>\n",
       "      <td>114</td>\n",
       "      <td>114</td>\n",
       "      <td>114</td>\n",
       "    </tr>\n",
       "    <tr>\n",
       "      <th>1.0</th>\n",
       "      <td>2694</td>\n",
       "      <td>2694</td>\n",
       "      <td>2694</td>\n",
       "      <td>2694</td>\n",
       "      <td>2694</td>\n",
       "      <td>2694</td>\n",
       "      <td>2694</td>\n",
       "      <td>2694</td>\n",
       "      <td>2694</td>\n",
       "      <td>2694</td>\n",
       "      <td>...</td>\n",
       "      <td>2694</td>\n",
       "      <td>2694</td>\n",
       "      <td>2694</td>\n",
       "      <td>2694</td>\n",
       "      <td>2694</td>\n",
       "      <td>2694</td>\n",
       "      <td>2694</td>\n",
       "      <td>2694</td>\n",
       "      <td>2694</td>\n",
       "      <td>2694</td>\n",
       "    </tr>\n",
       "  </tbody>\n",
       "</table>\n",
       "<p>3 rows × 64 columns</p>\n",
       "</div>"
      ],
      "text/plain": [
       "        IMG  PLATE  SPECNO   FIB  XFOCAL  YFOCAL  FIBER_RA  FIBER_DEC  \\\n",
       "PHOTO                                                                   \n",
       "0.0    4227   4227    4227  4227    4227    4227      4227       4227   \n",
       "0.5     114    114     114   114     114     114       114        114   \n",
       "1.0    2694   2694    2694  2694    2694    2694      2694       2694   \n",
       "\n",
       "       OBJTYPE   MJD  ...   MOON_AZ  MOON_ZENITH  MOON_PHASE  SUN_SEP  \\\n",
       "PHOTO                 ...                                               \n",
       "0.0       4227  4227  ...      4227         4227        4227     4227   \n",
       "0.5        114   114  ...       114          114         114      114   \n",
       "1.0       2694  2694  ...      2694         2694        2694     2694   \n",
       "\n",
       "       SUN_ALT  SUN_AZ  SUN_MOON_SEP  MONTH  SOLARFLUX  HOUR  \n",
       "PHOTO                                                         \n",
       "0.0       4227    4227          4227   4227       4227  4227  \n",
       "0.5        114     114           114    114        114   114  \n",
       "1.0       2694    2694          2694   2694       2694  2694  \n",
       "\n",
       "[3 rows x 64 columns]"
      ]
     },
     "execution_count": 62,
     "metadata": {},
     "output_type": "execute_result"
    }
   ],
   "source": [
    "Dark.groupby(['IMG','PHOTO'], as_index=False).count().groupby('PHOTO').count()"
   ]
  },
  {
   "cell_type": "code",
   "execution_count": 63,
   "metadata": {},
   "outputs": [
    {
     "data": {
      "text/plain": [
       "0.6373314407381121"
      ]
     },
     "execution_count": 63,
     "metadata": {},
     "output_type": "execute_result"
    }
   ],
   "source": [
    "2694/4227"
   ]
  },
  {
   "cell_type": "code",
   "execution_count": 64,
   "metadata": {},
   "outputs": [],
   "source": [
    "tot = 4227 + 114 + 2694"
   ]
  },
  {
   "cell_type": "code",
   "execution_count": 65,
   "metadata": {},
   "outputs": [
    {
     "data": {
      "text/plain": [
       "0.0162046908315565"
      ]
     },
     "execution_count": 65,
     "metadata": {},
     "output_type": "execute_result"
    }
   ],
   "source": [
    "114/tot"
   ]
  },
  {
   "cell_type": "code",
   "execution_count": 66,
   "metadata": {},
   "outputs": [
    {
     "data": {
      "text/plain": [
       "0.3829424307036247"
      ]
     },
     "execution_count": 66,
     "metadata": {},
     "output_type": "execute_result"
    }
   ],
   "source": [
    "2694/tot"
   ]
  },
  {
   "cell_type": "code",
   "execution_count": 67,
   "metadata": {},
   "outputs": [
    {
     "data": {
      "text/plain": [
       "0.6008528784648187"
      ]
     },
     "execution_count": 67,
     "metadata": {},
     "output_type": "execute_result"
    }
   ],
   "source": [
    "4227/tot"
   ]
  },
  {
   "cell_type": "code",
   "execution_count": 68,
   "metadata": {},
   "outputs": [],
   "source": [
    "photo = Dark[Dark['PHOTO'] == 1.0]\n",
    "non_photo = Dark[Dark['PHOTO'] == 0.0]"
   ]
  },
  {
   "cell_type": "code",
   "execution_count": 75,
   "metadata": {},
   "outputs": [
    {
     "data": {
      "text/plain": [
       "<matplotlib.legend.Legend at 0x2aaae28aa4e0>"
      ]
     },
     "execution_count": 75,
     "metadata": {},
     "output_type": "execute_result"
    },
    {
     "data": {
      "image/png": "[encoded data removed]",
      "text/plain": [
       "<matplotlib.figure.Figure at 0x2aaae27dd898>"
      ]
     },
     "metadata": {},
     "output_type": "display_data"
    }
   ],
   "source": [
    "plt.hist(photo['MJD'],bins=100, alpha = 0.5, label = 'photometric')\n",
    "plt.hist(non_photo['MJD'], bins=100,alpha=0.5, label = 'non-photometric')\n",
    "plt.legend()"
   ]
  },
  {
   "cell_type": "markdown",
   "metadata": {},
   "source": [
    "## Calibration Vector"
   ]
  },
  {
   "cell_type": "code",
   "execution_count": 86,
   "metadata": {},
   "outputs": [
    {
     "data": {
      "text/html": [
       "<div>\n",
       "<style>\n",
       "    .dataframe thead tr:only-child th {\n",
       "        text-align: right;\n",
       "    }\n",
       "\n",
       "    .dataframe thead th {\n",
       "        text-align: left;\n",
       "    }\n",
       "\n",
       "    .dataframe tbody tr th {\n",
       "        vertical-align: top;\n",
       "    }\n",
       "</style>\n",
       "<table border=\"1\" class=\"dataframe\">\n",
       "  <thead>\n",
       "    <tr style=\"text-align: right;\">\n",
       "      <th></th>\n",
       "      <th>PLATE</th>\n",
       "      <th>IMG</th>\n",
       "      <th>AIRMASS</th>\n",
       "      <th>SEEING50</th>\n",
       "    </tr>\n",
       "  </thead>\n",
       "  <tbody>\n",
       "    <tr>\n",
       "      <th>0</th>\n",
       "      <td>3927</td>\n",
       "      <td>115504</td>\n",
       "      <td>1.05963</td>\n",
       "      <td>1.0881</td>\n",
       "    </tr>\n",
       "    <tr>\n",
       "      <th>37</th>\n",
       "      <td>3927</td>\n",
       "      <td>115505</td>\n",
       "      <td>1.05133</td>\n",
       "      <td>1.0866</td>\n",
       "    </tr>\n",
       "    <tr>\n",
       "      <th>74</th>\n",
       "      <td>3927</td>\n",
       "      <td>115506</td>\n",
       "      <td>1.04795</td>\n",
       "      <td>1.0472</td>\n",
       "    </tr>\n",
       "    <tr>\n",
       "      <th>111</th>\n",
       "      <td>3927</td>\n",
       "      <td>115507</td>\n",
       "      <td>1.04926</td>\n",
       "      <td>1.0451</td>\n",
       "    </tr>\n",
       "    <tr>\n",
       "      <th>98</th>\n",
       "      <td>5775</td>\n",
       "      <td>141568</td>\n",
       "      <td>1.01360</td>\n",
       "      <td>1.0799</td>\n",
       "    </tr>\n",
       "    <tr>\n",
       "      <th>0</th>\n",
       "      <td>6438</td>\n",
       "      <td>158303</td>\n",
       "      <td>1.02128</td>\n",
       "      <td>1.0849</td>\n",
       "    </tr>\n",
       "    <tr>\n",
       "      <th>41</th>\n",
       "      <td>3763</td>\n",
       "      <td>121821</td>\n",
       "      <td>1.02799</td>\n",
       "      <td>1.0436</td>\n",
       "    </tr>\n",
       "    <tr>\n",
       "      <th>0</th>\n",
       "      <td>3985</td>\n",
       "      <td>114434</td>\n",
       "      <td>1.00434</td>\n",
       "      <td>1.0881</td>\n",
       "    </tr>\n",
       "    <tr>\n",
       "      <th>49</th>\n",
       "      <td>3985</td>\n",
       "      <td>114435</td>\n",
       "      <td>1.00056</td>\n",
       "      <td>1.0746</td>\n",
       "    </tr>\n",
       "    <tr>\n",
       "      <th>98</th>\n",
       "      <td>3985</td>\n",
       "      <td>114439</td>\n",
       "      <td>1.00396</td>\n",
       "      <td>1.0391</td>\n",
       "    </tr>\n",
       "    <tr>\n",
       "      <th>0</th>\n",
       "      <td>3941</td>\n",
       "      <td>113936</td>\n",
       "      <td>1.07588</td>\n",
       "      <td>1.0000</td>\n",
       "    </tr>\n",
       "    <tr>\n",
       "      <th>0</th>\n",
       "      <td>3936</td>\n",
       "      <td>113447</td>\n",
       "      <td>1.03825</td>\n",
       "      <td>1.0736</td>\n",
       "    </tr>\n",
       "    <tr>\n",
       "      <th>50</th>\n",
       "      <td>3936</td>\n",
       "      <td>113448</td>\n",
       "      <td>1.05287</td>\n",
       "      <td>1.0447</td>\n",
       "    </tr>\n",
       "    <tr>\n",
       "      <th>100</th>\n",
       "      <td>3936</td>\n",
       "      <td>113449</td>\n",
       "      <td>1.07238</td>\n",
       "      <td>1.0894</td>\n",
       "    </tr>\n",
       "    <tr>\n",
       "      <th>35</th>\n",
       "      <td>3922</td>\n",
       "      <td>115515</td>\n",
       "      <td>1.06737</td>\n",
       "      <td>1.0807</td>\n",
       "    </tr>\n",
       "    <tr>\n",
       "      <th>70</th>\n",
       "      <td>3922</td>\n",
       "      <td>115516</td>\n",
       "      <td>1.08584</td>\n",
       "      <td>1.0743</td>\n",
       "    </tr>\n",
       "    <tr>\n",
       "      <th>84</th>\n",
       "      <td>3930</td>\n",
       "      <td>115445</td>\n",
       "      <td>1.09839</td>\n",
       "      <td>1.0772</td>\n",
       "    </tr>\n",
       "    <tr>\n",
       "      <th>66</th>\n",
       "      <td>3753</td>\n",
       "      <td>120640</td>\n",
       "      <td>1.07645</td>\n",
       "      <td>1.0001</td>\n",
       "    </tr>\n",
       "    <tr>\n",
       "      <th>99</th>\n",
       "      <td>3753</td>\n",
       "      <td>120641</td>\n",
       "      <td>1.05314</td>\n",
       "      <td>1.0144</td>\n",
       "    </tr>\n",
       "    <tr>\n",
       "      <th>172</th>\n",
       "      <td>3670</td>\n",
       "      <td>120371</td>\n",
       "      <td>1.08053</td>\n",
       "      <td>1.0291</td>\n",
       "    </tr>\n",
       "  </tbody>\n",
       "</table>\n",
       "</div>"
      ],
      "text/plain": [
       "     PLATE     IMG  AIRMASS  SEEING50\n",
       "0     3927  115504  1.05963    1.0881\n",
       "37    3927  115505  1.05133    1.0866\n",
       "74    3927  115506  1.04795    1.0472\n",
       "111   3927  115507  1.04926    1.0451\n",
       "98    5775  141568  1.01360    1.0799\n",
       "0     6438  158303  1.02128    1.0849\n",
       "41    3763  121821  1.02799    1.0436\n",
       "0     3985  114434  1.00434    1.0881\n",
       "49    3985  114435  1.00056    1.0746\n",
       "98    3985  114439  1.00396    1.0391\n",
       "0     3941  113936  1.07588    1.0000\n",
       "0     3936  113447  1.03825    1.0736\n",
       "50    3936  113448  1.05287    1.0447\n",
       "100   3936  113449  1.07238    1.0894\n",
       "35    3922  115515  1.06737    1.0807\n",
       "70    3922  115516  1.08584    1.0743\n",
       "84    3930  115445  1.09839    1.0772\n",
       "66    3753  120640  1.07645    1.0001\n",
       "99    3753  120641  1.05314    1.0144\n",
       "172   3670  120371  1.08053    1.0291"
      ]
     },
     "execution_count": 86,
     "metadata": {},
     "output_type": "execute_result"
    }
   ],
   "source": [
    "Dark[(Dark.AIRMASS < 1.1) & (Dark.SEEING50 < 1.1) & (Dark.SEEING50 > 0)][['PLATE','IMG','AIRMASS','SEEING50']].drop_duplicates()"
   ]
  },
  {
   "cell_type": "markdown",
   "metadata": {},
   "source": [
    "## Check Mean Spectra"
   ]
  },
  {
   "cell_type": "markdown",
   "metadata": {},
   "source": [
    "Calibrated Sky files have the spectra for all Images in a Dark Plate. Let's double check"
   ]
  },
  {
   "cell_type": "code",
   "execution_count": 20,
   "metadata": {},
   "outputs": [],
   "source": [
    "dir = '/global/cscratch1/sd/parkerf/dark_boss_sky/calibrated_sky'"
   ]
  },
  {
   "cell_type": "code",
   "execution_count": 21,
   "metadata": {},
   "outputs": [],
   "source": [
    "plates = [int(f[0:4]) for f in os.listdir(dir)]"
   ]
  },
  {
   "cell_type": "code",
   "execution_count": 22,
   "metadata": {},
   "outputs": [],
   "source": [
    "for plate in plates:\n",
    "    if plate not in np.unique(Dark.PLATE):\n",
    "        print(plate)for plate in plates:\n",
    "    if plate not in np.unique(Dark.PLATE):\n",
    "        print(plate)"
   ]
  },
  {
   "cell_type": "code",
   "execution_count": 23,
   "metadata": {},
   "outputs": [],
   "source": [
    "for plate in np.unique(Dark.PLATE):\n",
    "    if plate not in plates:\n",
    "        print(plate)"
   ]
  },
  {
   "cell_type": "code",
   "execution_count": 24,
   "metadata": {},
   "outputs": [
    {
     "data": {
      "text/plain": [
       "1561"
      ]
     },
     "execution_count": 24,
     "metadata": {},
     "output_type": "execute_result"
    }
   ],
   "source": [
    "len(np.unique(Dark.PLATE))"
   ]
  },
  {
   "cell_type": "code",
   "execution_count": 25,
   "metadata": {},
   "outputs": [
    {
     "data": {
      "text/plain": [
       "1561"
      ]
     },
     "execution_count": 25,
     "metadata": {},
     "output_type": "execute_result"
    }
   ],
   "source": [
    "len(plates)"
   ]
  },
  {
   "cell_type": "markdown",
   "metadata": {},
   "source": [
    "Now, check that all Dark Images have all 4 cameras in Mean images"
   ]
  },
  {
   "cell_type": "code",
   "execution_count": 26,
   "metadata": {},
   "outputs": [],
   "source": [
    "dir = '/global/cscratch1/sd/parkerf/dark_boss_sky/mean_spectra/'"
   ]
  },
  {
   "cell_type": "code",
   "execution_count": 27,
   "metadata": {},
   "outputs": [],
   "source": [
    "folders = os.listdir(dir)"
   ]
  },
  {
   "cell_type": "code",
   "execution_count": 28,
   "metadata": {},
   "outputs": [],
   "source": [
    "for plate in plates:\n",
    "    if str(plate) not in folders:\n",
    "        print(plate)"
   ]
  },
  {
   "cell_type": "code",
   "execution_count": 29,
   "metadata": {},
   "outputs": [],
   "source": [
    "not_finished = []\n",
    "for plate in folders:\n",
    "    imgs = np.unique(Dark[Dark.PLATE == int(plate)].IMG)\n",
    "    for img in imgs:\n",
    "        files = glob.glob(dir+plate+'/%s*.csv' % img)\n",
    "        if len(files) < 4:\n",
    "            not_finished.append([plate, img, len(files)])"
   ]
  },
  {
   "cell_type": "code",
   "execution_count": 30,
   "metadata": {},
   "outputs": [
    {
     "data": {
      "text/plain": [
       "[]"
      ]
     },
     "execution_count": 30,
     "metadata": {},
     "output_type": "execute_result"
    }
   ],
   "source": [
    "not_finished"
   ]
  },
  {
   "cell_type": "code",
   "execution_count": 31,
   "metadata": {},
   "outputs": [
    {
     "data": {
      "text/plain": [
       "128"
      ]
     },
     "execution_count": 31,
     "metadata": {},
     "output_type": "execute_result"
    }
   ],
   "source": [
    "len(np.unique(Dark[Dark.PLATE == 7339].IMG))"
   ]
  },
  {
   "cell_type": "code",
   "execution_count": 32,
   "metadata": {},
   "outputs": [],
   "source": [
    "not_dark = []\n",
    "for plate in folders:\n",
    "    files = glob.glob(dir+plate+'/*.csv')\n",
    "    imgs = np.unique([int(os.path.split(f)[1][0:6]) for f in files])\n",
    "    dark_images = np.unique(Dark[Dark.PLATE == int(plate)].IMG)\n",
    "    for img in imgs:\n",
    "        if img not in dark_images:\n",
    "            not_dark.append(img)"
   ]
  },
  {
   "cell_type": "code",
   "execution_count": 33,
   "metadata": {},
   "outputs": [
    {
     "data": {
      "text/plain": [
       "[]"
      ]
     },
     "execution_count": 33,
     "metadata": {},
     "output_type": "execute_result"
    }
   ],
   "source": [
    "not_dark"
   ]
  },
  {
   "cell_type": "markdown",
   "metadata": {},
   "source": [
    "Now check that all new cont files are there"
   ]
  },
  {
   "cell_type": "code",
   "execution_count": 34,
   "metadata": {},
   "outputs": [],
   "source": [
    "dir = '/global/cscratch1/sd/parkerf/dark_boss_sky/mean_cont_spectra/'"
   ]
  },
  {
   "cell_type": "code",
   "execution_count": 35,
   "metadata": {},
   "outputs": [],
   "source": [
    "folders = os.listdir(dir)"
   ]
  },
  {
   "cell_type": "code",
   "execution_count": 36,
   "metadata": {},
   "outputs": [],
   "source": [
    "for plate in plates:\n",
    "    if str(plate) not in folders:\n",
    "        print(plate)"
   ]
  },
  {
   "cell_type": "code",
   "execution_count": 37,
   "metadata": {},
   "outputs": [],
   "source": [
    "not_found = []\n",
    "for plate in folders:\n",
    "    imgs = np.unique(Dark[Dark.PLATE == int(plate)].IMG)\n",
    "    for img in imgs:\n",
    "        for cam in ['b1','b2','r1','r2']:\n",
    "            fn = dir+plate+'/%s_%s.csv' % (img, cam)\n",
    "            f = glob.glob(fn)\n",
    "            if len(f) == 0:\n",
    "                not_found.append(fn)"
   ]
  },
  {
   "cell_type": "code",
   "execution_count": 38,
   "metadata": {},
   "outputs": [
    {
     "data": {
      "text/plain": [
       "['/global/cscratch1/sd/parkerf/dark_boss_sky/mean_cont_spectra/3956/129281_b2.csv',\n",
       " '/global/cscratch1/sd/parkerf/dark_boss_sky/mean_cont_spectra/4753/129938_b1.csv',\n",
       " '/global/cscratch1/sd/parkerf/dark_boss_sky/mean_cont_spectra/4490/127621_b1.csv',\n",
       " '/global/cscratch1/sd/parkerf/dark_boss_sky/mean_cont_spectra/7108/173768_b1.csv']"
      ]
     },
     "execution_count": 38,
     "metadata": {},
     "output_type": "execute_result"
    }
   ],
   "source": [
    "not_found"
   ]
  },
  {
   "cell_type": "markdown",
   "metadata": {},
   "source": [
    "## Make Zenith Spectra"
   ]
  },
  {
   "cell_type": "code",
   "execution_count": 18,
   "metadata": {},
   "outputs": [],
   "source": [
    "dark_meta = pd.read_csv('dark_meta_b1.csv')"
   ]
  },
  {
   "cell_type": "code",
   "execution_count": 19,
   "metadata": {},
   "outputs": [],
   "source": [
    "zenith = dark_meta[(dark_meta.AIRMASS < 1.01) & (dark_meta.SUN_ALT < -18) & (dark_meta.GAL_LAT > 15) & (dark_meta.ECL_LAT > 15) & (dark_meta.PHOTO == 1.0)]"
   ]
  },
  {
   "cell_type": "code",
   "execution_count": 20,
   "metadata": {},
   "outputs": [
    {
     "data": {
      "text/html": [
       "<div>\n",
       "<style>\n",
       "    .dataframe thead tr:only-child th {\n",
       "        text-align: right;\n",
       "    }\n",
       "\n",
       "    .dataframe thead th {\n",
       "        text-align: left;\n",
       "    }\n",
       "\n",
       "    .dataframe tbody tr th {\n",
       "        vertical-align: top;\n",
       "    }\n",
       "</style>\n",
       "<table border=\"1\" class=\"dataframe\">\n",
       "  <thead>\n",
       "    <tr style=\"text-align: right;\">\n",
       "      <th></th>\n",
       "      <th>index</th>\n",
       "      <th>PLATE</th>\n",
       "      <th>IMG</th>\n",
       "      <th>OBJTYPE</th>\n",
       "      <th>MJD</th>\n",
       "      <th>TAI-BEG</th>\n",
       "      <th>TAI-END</th>\n",
       "      <th>RA</th>\n",
       "      <th>DEC</th>\n",
       "      <th>CAMERAS</th>\n",
       "      <th>AIRMASS</th>\n",
       "      <th>ALT</th>\n",
       "      <th>AZ</th>\n",
       "      <th>EXPTIME</th>\n",
       "      <th>SEEING20</th>\n",
       "      <th>SEEING50</th>\n",
       "      <th>SEEING80</th>\n",
       "      <th>RMSOFF20</th>\n",
       "      <th>RMSOFF50</th>\n",
       "      <th>RMSOFF80</th>\n",
       "      <th>DATE-OBS</th>\n",
       "      <th>REDDEN01</th>\n",
       "      <th>REDDEN02</th>\n",
       "      <th>REDDEN03</th>\n",
       "      <th>REDDEN04</th>\n",
       "      <th>REDDEN05</th>\n",
       "      <th>QUALITY</th>\n",
       "      <th>DUSTC</th>\n",
       "      <th>DUSTD</th>\n",
       "      <th>AIRTEMP</th>\n",
       "      <th>DEWPOINT</th>\n",
       "      <th>DUSTA</th>\n",
       "      <th>DUSTB</th>\n",
       "      <th>GUSTD</th>\n",
       "      <th>GUSTS</th>\n",
       "      <th>HUMIDITY</th>\n",
       "      <th>PRESSURE</th>\n",
       "      <th>WINDD</th>\n",
       "      <th>WINDS</th>\n",
       "      <th>OBS_ZENITH</th>\n",
       "      <th>ECL_LAT</th>\n",
       "      <th>ECL_LON</th>\n",
       "      <th>GAL_LAT</th>\n",
       "      <th>GAL_LON</th>\n",
       "      <th>ZODI</th>\n",
       "      <th>MOOND</th>\n",
       "      <th>MOON_SEP</th>\n",
       "      <th>MOON_ALT</th>\n",
       "      <th>MOON_AZ</th>\n",
       "      <th>MOON_ZENITH</th>\n",
       "      <th>MOON_PHASE</th>\n",
       "      <th>SUN_SEP</th>\n",
       "      <th>SUN_ALT</th>\n",
       "      <th>SUN_AZ</th>\n",
       "      <th>SUN_MOON_SEP</th>\n",
       "      <th>MONTH</th>\n",
       "      <th>PHOTO</th>\n",
       "      <th>SOLARFLUX</th>\n",
       "      <th>HOUR</th>\n",
       "      <th>MONTH_FRAC</th>\n",
       "      <th>JAN</th>\n",
       "      <th>FEB</th>\n",
       "      <th>MAR</th>\n",
       "      <th>APR</th>\n",
       "      <th>MAY</th>\n",
       "      <th>JUN</th>\n",
       "      <th>JUL</th>\n",
       "      <th>AUG</th>\n",
       "      <th>SEP</th>\n",
       "      <th>OCT</th>\n",
       "      <th>NOV</th>\n",
       "      <th>HOUR_FRAC</th>\n",
       "      <th>H1</th>\n",
       "      <th>H2</th>\n",
       "      <th>H3</th>\n",
       "      <th>H4</th>\n",
       "      <th>H5</th>\n",
       "      <th>H6</th>\n",
       "      <th>ISL</th>\n",
       "    </tr>\n",
       "  </thead>\n",
       "  <tbody>\n",
       "    <tr>\n",
       "      <th>171</th>\n",
       "      <td>33556</td>\n",
       "      <td>5981</td>\n",
       "      <td>156794</td>\n",
       "      <td>SKY</td>\n",
       "      <td>56340</td>\n",
       "      <td>4.867811e+09</td>\n",
       "      <td>4.867812e+09</td>\n",
       "      <td>188.461823</td>\n",
       "      <td>0</td>\n",
       "      <td>b1</td>\n",
       "      <td>1.00453</td>\n",
       "      <td>84.912</td>\n",
       "      <td>-2.219</td>\n",
       "      <td>900.85</td>\n",
       "      <td>1.2573</td>\n",
       "      <td>1.4321</td>\n",
       "      <td>1.5480</td>\n",
       "      <td>0.013418</td>\n",
       "      <td>0.020105</td>\n",
       "      <td>0.027768</td>\n",
       "      <td>2013-02-17T09:49:14</td>\n",
       "      <td>0.0887</td>\n",
       "      <td>0.0652</td>\n",
       "      <td>0.0473</td>\n",
       "      <td>0.0359</td>\n",
       "      <td>0.0254</td>\n",
       "      <td>excellent</td>\n",
       "      <td>-1.0</td>\n",
       "      <td>-1.0</td>\n",
       "      <td>1.8</td>\n",
       "      <td>-24.9</td>\n",
       "      <td>12087.0</td>\n",
       "      <td>1563.0</td>\n",
       "      <td>281.0</td>\n",
       "      <td>12.6</td>\n",
       "      <td>14.9</td>\n",
       "      <td>21.437</td>\n",
       "      <td>265.0</td>\n",
       "      <td>8.9</td>\n",
       "      <td>5.088</td>\n",
       "      <td>28.628914</td>\n",
       "      <td>175.695790</td>\n",
       "      <td>86.046200</td>\n",
       "      <td>202.678725</td>\n",
       "      <td>3.205574</td>\n",
       "      <td>405034.916332</td>\n",
       "      <td>118.506533</td>\n",
       "      <td>-26.242383</td>\n",
       "      <td>316.394537</td>\n",
       "      <td>116.242386</td>\n",
       "      <td>6.800111</td>\n",
       "      <td>141.456165</td>\n",
       "      <td>-48.080835</td>\n",
       "      <td>69.421807</td>\n",
       "      <td>84.570754</td>\n",
       "      <td>2</td>\n",
       "      <td>1.0</td>\n",
       "      <td>104.578995</td>\n",
       "      <td>9.055923</td>\n",
       "      <td>2.566667</td>\n",
       "      <td>0</td>\n",
       "      <td>1</td>\n",
       "      <td>0</td>\n",
       "      <td>0</td>\n",
       "      <td>0</td>\n",
       "      <td>0</td>\n",
       "      <td>0</td>\n",
       "      <td>0</td>\n",
       "      <td>0</td>\n",
       "      <td>0</td>\n",
       "      <td>0</td>\n",
       "      <td>0.707054</td>\n",
       "      <td>0</td>\n",
       "      <td>0</td>\n",
       "      <td>0</td>\n",
       "      <td>0</td>\n",
       "      <td>1</td>\n",
       "      <td>0</td>\n",
       "      <td>0.860625</td>\n",
       "    </tr>\n",
       "    <tr>\n",
       "      <th>172</th>\n",
       "      <td>33604</td>\n",
       "      <td>5981</td>\n",
       "      <td>156795</td>\n",
       "      <td>SKY</td>\n",
       "      <td>56340</td>\n",
       "      <td>4.867812e+09</td>\n",
       "      <td>4.867813e+09</td>\n",
       "      <td>188.462369</td>\n",
       "      <td>0</td>\n",
       "      <td>b1</td>\n",
       "      <td>1.00876</td>\n",
       "      <td>83.684</td>\n",
       "      <td>-37.532</td>\n",
       "      <td>900.86</td>\n",
       "      <td>1.1549</td>\n",
       "      <td>1.2004</td>\n",
       "      <td>1.2557</td>\n",
       "      <td>0.013737</td>\n",
       "      <td>0.020769</td>\n",
       "      <td>0.028467</td>\n",
       "      <td>2013-02-17T10:05:36</td>\n",
       "      <td>0.0887</td>\n",
       "      <td>0.0652</td>\n",
       "      <td>0.0473</td>\n",
       "      <td>0.0359</td>\n",
       "      <td>0.0254</td>\n",
       "      <td>excellent</td>\n",
       "      <td>-1.0</td>\n",
       "      <td>-1.0</td>\n",
       "      <td>2.0</td>\n",
       "      <td>-24.6</td>\n",
       "      <td>12245.0</td>\n",
       "      <td>1469.0</td>\n",
       "      <td>264.5</td>\n",
       "      <td>11.2</td>\n",
       "      <td>14.9</td>\n",
       "      <td>21.429</td>\n",
       "      <td>262.8</td>\n",
       "      <td>5.8</td>\n",
       "      <td>6.316</td>\n",
       "      <td>28.629600</td>\n",
       "      <td>175.696014</td>\n",
       "      <td>86.046603</td>\n",
       "      <td>202.670172</td>\n",
       "      <td>3.205530</td>\n",
       "      <td>405280.625612</td>\n",
       "      <td>118.378108</td>\n",
       "      <td>-28.433877</td>\n",
       "      <td>319.792079</td>\n",
       "      <td>118.433876</td>\n",
       "      <td>6.800111</td>\n",
       "      <td>141.462883</td>\n",
       "      <td>-44.823479</td>\n",
       "      <td>72.804951</td>\n",
       "      <td>84.732168</td>\n",
       "      <td>2</td>\n",
       "      <td>1.0</td>\n",
       "      <td>104.578995</td>\n",
       "      <td>9.328702</td>\n",
       "      <td>2.566667</td>\n",
       "      <td>0</td>\n",
       "      <td>1</td>\n",
       "      <td>0</td>\n",
       "      <td>0</td>\n",
       "      <td>0</td>\n",
       "      <td>0</td>\n",
       "      <td>0</td>\n",
       "      <td>0</td>\n",
       "      <td>0</td>\n",
       "      <td>0</td>\n",
       "      <td>0</td>\n",
       "      <td>0.728351</td>\n",
       "      <td>0</td>\n",
       "      <td>0</td>\n",
       "      <td>0</td>\n",
       "      <td>0</td>\n",
       "      <td>1</td>\n",
       "      <td>0</td>\n",
       "      <td>0.860625</td>\n",
       "    </tr>\n",
       "    <tr>\n",
       "      <th>243</th>\n",
       "      <td>46942</td>\n",
       "      <td>4610</td>\n",
       "      <td>127357</td>\n",
       "      <td>SKY</td>\n",
       "      <td>55621</td>\n",
       "      <td>4.805683e+09</td>\n",
       "      <td>4.805684e+09</td>\n",
       "      <td>181.644598</td>\n",
       "      <td>0</td>\n",
       "      <td>b1</td>\n",
       "      <td>1.00599</td>\n",
       "      <td>82.053</td>\n",
       "      <td>108.453</td>\n",
       "      <td>900.85</td>\n",
       "      <td>1.5505</td>\n",
       "      <td>1.7068</td>\n",
       "      <td>1.8731</td>\n",
       "      <td>0.007512</td>\n",
       "      <td>0.016677</td>\n",
       "      <td>0.025284</td>\n",
       "      <td>2011-03-01T07:59:04</td>\n",
       "      <td>0.0872</td>\n",
       "      <td>0.0642</td>\n",
       "      <td>0.0465</td>\n",
       "      <td>0.0353</td>\n",
       "      <td>0.0250</td>\n",
       "      <td>excellent</td>\n",
       "      <td>-1.0</td>\n",
       "      <td>-1.0</td>\n",
       "      <td>0.4</td>\n",
       "      <td>-17.3</td>\n",
       "      <td>5533.0</td>\n",
       "      <td>382.0</td>\n",
       "      <td>185.0</td>\n",
       "      <td>21.8</td>\n",
       "      <td>25.2</td>\n",
       "      <td>21.555</td>\n",
       "      <td>183.6</td>\n",
       "      <td>16.9</td>\n",
       "      <td>7.947</td>\n",
       "      <td>32.407951</td>\n",
       "      <td>165.820965</td>\n",
       "      <td>77.577690</td>\n",
       "      <td>170.691724</td>\n",
       "      <td>3.006486</td>\n",
       "      <td>402953.298471</td>\n",
       "      <td>125.900423</td>\n",
       "      <td>-42.128206</td>\n",
       "      <td>84.414887</td>\n",
       "      <td>132.128200</td>\n",
       "      <td>25.155667</td>\n",
       "      <td>147.159720</td>\n",
       "      <td>-62.317312</td>\n",
       "      <td>27.676924</td>\n",
       "      <td>38.465497</td>\n",
       "      <td>3</td>\n",
       "      <td>1.0</td>\n",
       "      <td>99.252716</td>\n",
       "      <td>7.060593</td>\n",
       "      <td>3.033333</td>\n",
       "      <td>0</td>\n",
       "      <td>0</td>\n",
       "      <td>1</td>\n",
       "      <td>0</td>\n",
       "      <td>0</td>\n",
       "      <td>0</td>\n",
       "      <td>0</td>\n",
       "      <td>0</td>\n",
       "      <td>0</td>\n",
       "      <td>0</td>\n",
       "      <td>0</td>\n",
       "      <td>0.567737</td>\n",
       "      <td>0</td>\n",
       "      <td>0</td>\n",
       "      <td>0</td>\n",
       "      <td>1</td>\n",
       "      <td>0</td>\n",
       "      <td>0</td>\n",
       "      <td>0.906868</td>\n",
       "    </tr>\n",
       "    <tr>\n",
       "      <th>438</th>\n",
       "      <td>81548</td>\n",
       "      <td>6402</td>\n",
       "      <td>156189</td>\n",
       "      <td>SKY</td>\n",
       "      <td>56334</td>\n",
       "      <td>4.867290e+09</td>\n",
       "      <td>4.867291e+09</td>\n",
       "      <td>179.096062</td>\n",
       "      <td>0</td>\n",
       "      <td>b1</td>\n",
       "      <td>1.00746</td>\n",
       "      <td>81.417</td>\n",
       "      <td>60.580</td>\n",
       "      <td>900.86</td>\n",
       "      <td>1.2318</td>\n",
       "      <td>1.3087</td>\n",
       "      <td>1.4264</td>\n",
       "      <td>0.009058</td>\n",
       "      <td>0.018023</td>\n",
       "      <td>0.028184</td>\n",
       "      <td>2013-02-11T09:00:44</td>\n",
       "      <td>0.1180</td>\n",
       "      <td>0.0868</td>\n",
       "      <td>0.0630</td>\n",
       "      <td>0.0477</td>\n",
       "      <td>0.0338</td>\n",
       "      <td>excellent</td>\n",
       "      <td>-1.0</td>\n",
       "      <td>-1.0</td>\n",
       "      <td>-5.1</td>\n",
       "      <td>-16.3</td>\n",
       "      <td>12526.0</td>\n",
       "      <td>341.0</td>\n",
       "      <td>226.5</td>\n",
       "      <td>16.4</td>\n",
       "      <td>39.7</td>\n",
       "      <td>21.273</td>\n",
       "      <td>226.3</td>\n",
       "      <td>14.0</td>\n",
       "      <td>8.583</td>\n",
       "      <td>25.472804</td>\n",
       "      <td>167.093299</td>\n",
       "      <td>77.764054</td>\n",
       "      <td>204.025233</td>\n",
       "      <td>3.411633</td>\n",
       "      <td>380096.355371</td>\n",
       "      <td>148.561979</td>\n",
       "      <td>-58.579903</td>\n",
       "      <td>30.994626</td>\n",
       "      <td>148.579910</td>\n",
       "      <td>1.200111</td>\n",
       "      <td>145.244977</td>\n",
       "      <td>-58.626800</td>\n",
       "      <td>59.551161</td>\n",
       "      <td>14.764108</td>\n",
       "      <td>2</td>\n",
       "      <td>1.0</td>\n",
       "      <td>105.832290</td>\n",
       "      <td>8.335976</td>\n",
       "      <td>2.366667</td>\n",
       "      <td>0</td>\n",
       "      <td>1</td>\n",
       "      <td>0</td>\n",
       "      <td>0</td>\n",
       "      <td>0</td>\n",
       "      <td>0</td>\n",
       "      <td>0</td>\n",
       "      <td>0</td>\n",
       "      <td>0</td>\n",
       "      <td>0</td>\n",
       "      <td>0</td>\n",
       "      <td>0.641584</td>\n",
       "      <td>0</td>\n",
       "      <td>0</td>\n",
       "      <td>0</td>\n",
       "      <td>1</td>\n",
       "      <td>0</td>\n",
       "      <td>0</td>\n",
       "      <td>0.907074</td>\n",
       "    </tr>\n",
       "    <tr>\n",
       "      <th>726</th>\n",
       "      <td>134384</td>\n",
       "      <td>3879</td>\n",
       "      <td>108642</td>\n",
       "      <td>SKY</td>\n",
       "      <td>55244</td>\n",
       "      <td>4.773125e+09</td>\n",
       "      <td>4.773126e+09</td>\n",
       "      <td>230.480530</td>\n",
       "      <td>0</td>\n",
       "      <td>b1</td>\n",
       "      <td>1.00795</td>\n",
       "      <td>81.168</td>\n",
       "      <td>74.308</td>\n",
       "      <td>900.00</td>\n",
       "      <td>0.0000</td>\n",
       "      <td>0.0000</td>\n",
       "      <td>0.0000</td>\n",
       "      <td>0.000000</td>\n",
       "      <td>0.000000</td>\n",
       "      <td>0.000000</td>\n",
       "      <td>2010-02-17T11:57:01</td>\n",
       "      <td>0.1174</td>\n",
       "      <td>0.0864</td>\n",
       "      <td>0.0626</td>\n",
       "      <td>0.0475</td>\n",
       "      <td>0.0337</td>\n",
       "      <td>excellent</td>\n",
       "      <td>-1.0</td>\n",
       "      <td>-1.0</td>\n",
       "      <td>-1.0</td>\n",
       "      <td>-1.0</td>\n",
       "      <td>-1.0</td>\n",
       "      <td>-1.0</td>\n",
       "      <td>-1.0</td>\n",
       "      <td>-1.0</td>\n",
       "      <td>-1.0</td>\n",
       "      <td>-1.000</td>\n",
       "      <td>-1.0</td>\n",
       "      <td>-1.0</td>\n",
       "      <td>8.832</td>\n",
       "      <td>46.470163</td>\n",
       "      <td>216.882233</td>\n",
       "      <td>56.983694</td>\n",
       "      <td>47.066381</td>\n",
       "      <td>2.384046</td>\n",
       "      <td>404129.628900</td>\n",
       "      <td>122.311835</td>\n",
       "      <td>-36.328520</td>\n",
       "      <td>50.418071</td>\n",
       "      <td>126.328520</td>\n",
       "      <td>2.911222</td>\n",
       "      <td>104.736999</td>\n",
       "      <td>-21.751279</td>\n",
       "      <td>90.435434</td>\n",
       "      <td>37.570747</td>\n",
       "      <td>2</td>\n",
       "      <td>1.0</td>\n",
       "      <td>86.114400</td>\n",
       "      <td>11.189666</td>\n",
       "      <td>2.566667</td>\n",
       "      <td>0</td>\n",
       "      <td>1</td>\n",
       "      <td>0</td>\n",
       "      <td>0</td>\n",
       "      <td>0</td>\n",
       "      <td>0</td>\n",
       "      <td>0</td>\n",
       "      <td>0</td>\n",
       "      <td>0</td>\n",
       "      <td>0</td>\n",
       "      <td>0</td>\n",
       "      <td>0.873059</td>\n",
       "      <td>0</td>\n",
       "      <td>0</td>\n",
       "      <td>0</td>\n",
       "      <td>0</td>\n",
       "      <td>0</td>\n",
       "      <td>1</td>\n",
       "      <td>1.025887</td>\n",
       "    </tr>\n",
       "  </tbody>\n",
       "</table>\n",
       "</div>"
      ],
      "text/plain": [
       "      index  PLATE     IMG OBJTYPE    MJD       TAI-BEG       TAI-END  \\\n",
       "171   33556   5981  156794     SKY  56340  4.867811e+09  4.867812e+09   \n",
       "172   33604   5981  156795     SKY  56340  4.867812e+09  4.867813e+09   \n",
       "243   46942   4610  127357     SKY  55621  4.805683e+09  4.805684e+09   \n",
       "438   81548   6402  156189     SKY  56334  4.867290e+09  4.867291e+09   \n",
       "726  134384   3879  108642     SKY  55244  4.773125e+09  4.773126e+09   \n",
       "\n",
       "             RA  DEC CAMERAS  AIRMASS     ALT       AZ  EXPTIME  SEEING20  \\\n",
       "171  188.461823    0      b1  1.00453  84.912   -2.219   900.85    1.2573   \n",
       "172  188.462369    0      b1  1.00876  83.684  -37.532   900.86    1.1549   \n",
       "243  181.644598    0      b1  1.00599  82.053  108.453   900.85    1.5505   \n",
       "438  179.096062    0      b1  1.00746  81.417   60.580   900.86    1.2318   \n",
       "726  230.480530    0      b1  1.00795  81.168   74.308   900.00    0.0000   \n",
       "\n",
       "     SEEING50  SEEING80  RMSOFF20  RMSOFF50  RMSOFF80             DATE-OBS  \\\n",
       "171    1.4321    1.5480  0.013418  0.020105  0.027768  2013-02-17T09:49:14   \n",
       "172    1.2004    1.2557  0.013737  0.020769  0.028467  2013-02-17T10:05:36   \n",
       "243    1.7068    1.8731  0.007512  0.016677  0.025284  2011-03-01T07:59:04   \n",
       "438    1.3087    1.4264  0.009058  0.018023  0.028184  2013-02-11T09:00:44   \n",
       "726    0.0000    0.0000  0.000000  0.000000  0.000000  2010-02-17T11:57:01   \n",
       "\n",
       "     REDDEN01  REDDEN02  REDDEN03  REDDEN04  REDDEN05    QUALITY  DUSTC  \\\n",
       "171    0.0887    0.0652    0.0473    0.0359    0.0254  excellent   -1.0   \n",
       "172    0.0887    0.0652    0.0473    0.0359    0.0254  excellent   -1.0   \n",
       "243    0.0872    0.0642    0.0465    0.0353    0.0250  excellent   -1.0   \n",
       "438    0.1180    0.0868    0.0630    0.0477    0.0338  excellent   -1.0   \n",
       "726    0.1174    0.0864    0.0626    0.0475    0.0337  excellent   -1.0   \n",
       "\n",
       "     DUSTD  AIRTEMP  DEWPOINT    DUSTA   DUSTB  GUSTD  GUSTS  HUMIDITY  \\\n",
       "171   -1.0      1.8     -24.9  12087.0  1563.0  281.0   12.6      14.9   \n",
       "172   -1.0      2.0     -24.6  12245.0  1469.0  264.5   11.2      14.9   \n",
       "243   -1.0      0.4     -17.3   5533.0   382.0  185.0   21.8      25.2   \n",
       "438   -1.0     -5.1     -16.3  12526.0   341.0  226.5   16.4      39.7   \n",
       "726   -1.0     -1.0      -1.0     -1.0    -1.0   -1.0   -1.0      -1.0   \n",
       "\n",
       "     PRESSURE  WINDD  WINDS  OBS_ZENITH    ECL_LAT     ECL_LON    GAL_LAT  \\\n",
       "171    21.437  265.0    8.9       5.088  28.628914  175.695790  86.046200   \n",
       "172    21.429  262.8    5.8       6.316  28.629600  175.696014  86.046603   \n",
       "243    21.555  183.6   16.9       7.947  32.407951  165.820965  77.577690   \n",
       "438    21.273  226.3   14.0       8.583  25.472804  167.093299  77.764054   \n",
       "726    -1.000   -1.0   -1.0       8.832  46.470163  216.882233  56.983694   \n",
       "\n",
       "        GAL_LON      ZODI          MOOND    MOON_SEP   MOON_ALT     MOON_AZ  \\\n",
       "171  202.678725  3.205574  405034.916332  118.506533 -26.242383  316.394537   \n",
       "172  202.670172  3.205530  405280.625612  118.378108 -28.433877  319.792079   \n",
       "243  170.691724  3.006486  402953.298471  125.900423 -42.128206   84.414887   \n",
       "438  204.025233  3.411633  380096.355371  148.561979 -58.579903   30.994626   \n",
       "726   47.066381  2.384046  404129.628900  122.311835 -36.328520   50.418071   \n",
       "\n",
       "     MOON_ZENITH  MOON_PHASE     SUN_SEP    SUN_ALT     SUN_AZ  SUN_MOON_SEP  \\\n",
       "171   116.242386    6.800111  141.456165 -48.080835  69.421807     84.570754   \n",
       "172   118.433876    6.800111  141.462883 -44.823479  72.804951     84.732168   \n",
       "243   132.128200   25.155667  147.159720 -62.317312  27.676924     38.465497   \n",
       "438   148.579910    1.200111  145.244977 -58.626800  59.551161     14.764108   \n",
       "726   126.328520    2.911222  104.736999 -21.751279  90.435434     37.570747   \n",
       "\n",
       "     MONTH  PHOTO   SOLARFLUX       HOUR  MONTH_FRAC  JAN  FEB  MAR  APR  MAY  \\\n",
       "171      2    1.0  104.578995   9.055923    2.566667    0    1    0    0    0   \n",
       "172      2    1.0  104.578995   9.328702    2.566667    0    1    0    0    0   \n",
       "243      3    1.0   99.252716   7.060593    3.033333    0    0    1    0    0   \n",
       "438      2    1.0  105.832290   8.335976    2.366667    0    1    0    0    0   \n",
       "726      2    1.0   86.114400  11.189666    2.566667    0    1    0    0    0   \n",
       "\n",
       "     JUN  JUL  AUG  SEP  OCT  NOV  HOUR_FRAC  H1  H2  H3  H4  H5  H6       ISL  \n",
       "171    0    0    0    0    0    0   0.707054   0   0   0   0   1   0  0.860625  \n",
       "172    0    0    0    0    0    0   0.728351   0   0   0   0   1   0  0.860625  \n",
       "243    0    0    0    0    0    0   0.567737   0   0   0   1   0   0  0.906868  \n",
       "438    0    0    0    0    0    0   0.641584   0   0   0   1   0   0  0.907074  \n",
       "726    0    0    0    0    0    0   0.873059   0   0   0   0   0   1  1.025887  "
      ]
     },
     "execution_count": 20,
     "metadata": {},
     "output_type": "execute_result"
    }
   ],
   "source": [
    "zenith.head()"
   ]
  },
  {
   "cell_type": "code",
   "execution_count": 173,
   "metadata": {},
   "outputs": [],
   "source": [
    "WAVE = []\n",
    "SKY = []\n",
    "VAR = []\n",
    "for img in np.unique(zenith.IMG):\n",
    "    plate = list(zenith[zenith.IMG == img].PLATE)[0]\n",
    "    files = glob.glob('/global/cscratch1/sd/parkerf/dark_boss_sky/mean_spectra/%d/%d*.csv' % (plate, img))\n",
    "    for file in files:\n",
    "        df = pd.read_csv(file)\n",
    "        sky = pd.Series(df['SKY']).interpolate(method='linear')\n",
    "        var = pd.Series(df['IVAR']).interpolate(method='linear')\n",
    "        SKY.append(sky)\n",
    "        VAR.append(var)"
   ]
  },
  {
   "cell_type": "code",
   "execution_count": 174,
   "metadata": {},
   "outputs": [
    {
     "name": "stderr",
     "output_type": "stream",
     "text": [
      "/global/homes/p/parkerf/.conda/envs/myjupkernel/lib/python3.6/site-packages/numpy/ma/extras.py:607: RuntimeWarning: invalid value encountered in multiply\n",
      "  avg = np.multiply(a, wgt, dtype=result_dtype).sum(axis)/scl\n"
     ]
    }
   ],
   "source": [
    "mean_spectrum = np.ma.average(np.array(SKY), axis=0,weights = np.array(VAR))"
   ]
  },
  {
   "cell_type": "code",
   "execution_count": 177,
   "metadata": {},
   "outputs": [
    {
     "data": {
      "text/plain": [
       "(560, 600)"
      ]
     },
     "execution_count": 177,
     "metadata": {},
     "output_type": "execute_result"
    },
    {
     "data": {
      "image/png": "[encoded data removed]",
      "text/plain": [
       "<matplotlib.figure.Figure at 0x2aaaf19b9d30>"
      ]
     },
     "metadata": {},
     "output_type": "display_data"
    }
   ],
   "source": [
    "plt.figure(figsize=(10,4))\n",
    "plt.plot(xx[(xx>565)&(xx<592)],mean_spectrum[(xx>565)&(xx<592)])\n",
    "plt.xlim(560,600)"
   ]
  },
  {
   "cell_type": "code",
   "execution_count": 172,
   "metadata": {},
   "outputs": [
    {
     "data": {
      "text/plain": [
       "(565, 590)"
      ]
     },
     "execution_count": 172,
     "metadata": {},
     "output_type": "execute_result"
    },
    {
     "data": {
      "image/png": "[encoded data removed]",
      "text/plain": [
       "<matplotlib.figure.Figure at 0x2aaaf00530b8>"
      ]
     },
     "metadata": {},
     "output_type": "display_data"
    }
   ],
   "source": [
    "fig, (ax1, ax2) = plt.subplots(2,1,figsize=(10,8))\n",
    "for i, sky in enumerate(SKY):\n",
    "    ax1.plot(xx, sky)\n",
    "    ax2.plot(xx, VAR[i])\n",
    "ax1.set_ylim(0,100)\n",
    "ax1.set_xlim(565,590)\n",
    "ax2.set_xlim(565,590)"
   ]
  },
  {
   "cell_type": "code",
   "execution_count": 171,
   "metadata": {},
   "outputs": [
    {
     "data": {
      "text/plain": [
       "(560, 600)"
      ]
     },
     "execution_count": 171,
     "metadata": {},
     "output_type": "execute_result"
    },
    {
     "data": {
      "image/png": "[encoded data removed]",
      "text/plain": [
       "<matplotlib.figure.Figure at 0x2aaadedafcf8>"
      ]
     },
     "metadata": {},
     "output_type": "display_data"
    }
   ],
   "source": []
  },
  {
   "cell_type": "code",
   "execution_count": 37,
   "metadata": {},
   "outputs": [],
   "source": [
    "data = np.load('/global/cscratch1/sd/parkerf/dark_boss_sky/calibrated_sky/5981_calibrated_sky.npy')\n",
    "meta = pd.read_csv('/global/cscratch1/sd/parkerf/dark_boss_sky/raw_meta/5981_raw_meta.csv')"
   ]
  },
  {
   "cell_type": "code",
   "execution_count": 40,
   "metadata": {},
   "outputs": [],
   "source": [
    "specno = np.array(meta[meta.IMG == 156794].SPECNO)\n",
    "this_data = data[specno]"
   ]
  },
  {
   "cell_type": "code",
   "execution_count": null,
   "metadata": {},
   "outputs": [],
   "source": [
    "xx = np.linspace(300, 1040, (1040-300)*100)"
   ]
  },
  {
   "cell_type": "code",
   "execution_count": 180,
   "metadata": {},
   "outputs": [],
   "source": [
    "MEAN_SPEC = []\n",
    "MEAN_VAR = []\n",
    "for img in np.unique(zenith.IMG):\n",
    "    plate = list(zenith[zenith.IMG == img].PLATE)[0]\n",
    "    data = np.load('/global/cscratch1/sd/parkerf/dark_boss_sky/calibrated_sky/%d_calibrated_sky.npy'%plate)\n",
    "    meta = pd.read_csv('/global/cscratch1/sd/parkerf/dark_boss_sky/raw_meta/%d_raw_meta.csv'%plate)\n",
    "    specno = np.array(meta[meta.IMG == img].SPECNO)\n",
    "    this_data = data[specno]\n",
    "    SKY = []\n",
    "    VAR = []\n",
    "    for d in this_data:\n",
    "        try:\n",
    "            df = d[(~np.isnan(d['SKY']))&(d['IVAR']>0)&(~np.isnan(d['IVAR']))]\n",
    "            f = interp1d(df['WAVE'], df['SKY'], bounds_error=False, fill_value=0)\n",
    "            g = interp1d(df['WAVE'], df['IVAR'], bounds_error=False, fill_value=0)\n",
    "            SKY.append(f(xx))\n",
    "            VAR.append(g(xx))\n",
    "        except:\n",
    "            pass\n",
    "    MEAN_SPEC.append(np.ma.average(np.array(SKY),axis=0,weights=np.array(VAR)))\n",
    "    MEAN_VAR.append(np.ma.average(np.array(VAR),axis=0))"
   ]
  },
  {
   "cell_type": "code",
   "execution_count": 186,
   "metadata": {},
   "outputs": [],
   "source": [
    "MS = []\n",
    "for i, s in enumerate(np.array(MEAN_SPEC)):\n",
    "    x =pd.Series(s).interpolate(method='linear')\n",
    "    MS.append(x)\n",
    "mean_zenith = np.ma.average(MS,axis=0, weights=np.array(MEAN_VAR))"
   ]
  },
  {
   "cell_type": "code",
   "execution_count": 187,
   "metadata": {},
   "outputs": [
    {
     "data": {
      "text/plain": [
       "[<matplotlib.lines.Line2D at 0x2aaaf04b3240>]"
      ]
     },
     "execution_count": 187,
     "metadata": {},
     "output_type": "execute_result"
    },
    {
     "data": {
      "image/png": "[encoded data removed]",
      "text/plain": [
       "<matplotlib.figure.Figure at 0x2aaaf195ef28>"
      ]
     },
     "metadata": {},
     "output_type": "display_data"
    }
   ],
   "source": [
    "plt.plot(xx,mean_zenith)"
   ]
  },
  {
   "cell_type": "code",
   "execution_count": 202,
   "metadata": {},
   "outputs": [
    {
     "name": "stdout",
     "output_type": "stream",
     "text": [
      "365\n",
      "586\n",
      "586\n",
      "807\n",
      "807\n",
      "1028\n"
     ]
    },
    {
     "data": {
      "text/plain": [
       "<matplotlib.text.Text at 0x2aaaf34eec18>"
      ]
     },
     "execution_count": 202,
     "metadata": {},
     "output_type": "execute_result"
    },
    {
     "data": {
      "image/png": "[encoded data removed]",
      "text/plain": [
       "<matplotlib.figure.Figure at 0x2aaaf30f2080>"
      ]
     },
     "metadata": {},
     "output_type": "display_data"
    }
   ],
   "source": [
    "aa = int((1030-365)/3)\n",
    "fig, axarr = plt.subplots(3,1,figsize = (15,9))\n",
    "ax = axarr.ravel()\n",
    "fig.add_subplot(111, frameon=False)\n",
    "for i in range(3):\n",
    "    ax[i].semilogy(xx, mean_zenith,'k-')\n",
    "    start = 365+aa*(i)\n",
    "    end = 365+aa*(i+1)\n",
    "    print(start)\n",
    "    print(end)\n",
    "    ax[i].set_xlim(start,end)\n",
    "    ax[i].set_ylim(pow(10,0),200)\n",
    "plt.tick_params(labelcolor='none', top='off', bottom='off', left='off', right='off')\n",
    "plt.grid(False)\n",
    "plt.ylabel(\"Flux ($10^{-17} erg/cm^{2}/s/\\AA$)\")\n",
    "plt.xlabel(\"Wavelength (nm)\")"
   ]
  },
  {
   "cell_type": "code",
   "execution_count": null,
   "metadata": {},
   "outputs": [],
   "source": []
  }
 ],
 "metadata": {
  "kernelspec": {
   "display_name": "myjupkernel",
   "language": "python",
   "name": "myjupkernel"
  },
  "language_info": {
   "codemirror_mode": {
    "name": "ipython",
    "version": 3
   },
   "file_extension": ".py",
   "mimetype": "text/x-python",
   "name": "python",
   "nbconvert_exporter": "python",
   "pygments_lexer": "ipython3",
   "version": "3.6.2"
  }
 },
 "nbformat": 4,
 "nbformat_minor": 4
}
